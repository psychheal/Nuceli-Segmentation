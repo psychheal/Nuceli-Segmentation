{
  "cells": [
    {
      "cell_type": "code",
      "execution_count": null,
      "metadata": {
        "colab": {
          "base_uri": "https://localhost:8080/",
          "height": 956
        },
        "id": "NFsM18p4oo0X",
        "outputId": "b481b736-b84d-4cca-daa4-71aaffd70f3c"
      },
      "outputs": [
        {
          "output_type": "stream",
          "name": "stdout",
          "text": [
            "Looking in indexes: https://pypi.org/simple, https://us-python.pkg.dev/colab-wheels/public/simple/\n",
            "Collecting h5py==2.10.0\n",
            "  Using cached h5py-2.10.0-cp37-cp37m-manylinux1_x86_64.whl (2.9 MB)\n",
            "Collecting six\n",
            "  Using cached six-1.16.0-py2.py3-none-any.whl (11 kB)\n",
            "Collecting numpy>=1.7\n",
            "  Using cached numpy-1.21.6-cp37-cp37m-manylinux_2_12_x86_64.manylinux2010_x86_64.whl (15.7 MB)\n",
            "Installing collected packages: six, numpy, h5py\n",
            "  Attempting uninstall: six\n",
            "    Found existing installation: six 1.16.0\n",
            "    Uninstalling six-1.16.0:\n",
            "      Successfully uninstalled six-1.16.0\n",
            "  Attempting uninstall: numpy\n",
            "    Found existing installation: numpy 1.21.6\n",
            "    Uninstalling numpy-1.21.6:\n",
            "      Successfully uninstalled numpy-1.21.6\n",
            "  Attempting uninstall: h5py\n",
            "    Found existing installation: h5py 2.10.0\n",
            "    Uninstalling h5py-2.10.0:\n",
            "      Successfully uninstalled h5py-2.10.0\n",
            "\u001b[31mERROR: pip's dependency resolver does not currently take into account all the packages that are installed. This behaviour is the source of the following dependency conflicts.\n",
            "tensorflow 2.8.2+zzzcolab20220527125636 requires keras<2.9,>=2.8.0rc0, but you have keras 2.1.0 which is incompatible.\n",
            "google-colab 1.0.0 requires six~=1.15.0, but you have six 1.16.0 which is incompatible.\n",
            "datascience 0.10.6 requires folium==0.2.1, but you have folium 0.8.3 which is incompatible.\n",
            "albumentations 0.1.12 requires imgaug<0.2.7,>=0.2.5, but you have imgaug 0.2.9 which is incompatible.\u001b[0m\n",
            "Successfully installed h5py-2.10.0 numpy-1.21.6 six-1.16.0\n"
          ]
        },
        {
          "output_type": "display_data",
          "data": {
            "application/vnd.colab-display-data+json": {
              "pip_warning": {
                "packages": [
                  "numpy",
                  "six"
                ]
              }
            }
          },
          "metadata": {}
        },
        {
          "output_type": "stream",
          "name": "stdout",
          "text": [
            "Looking in indexes: https://pypi.org/simple, https://us-python.pkg.dev/colab-wheels/public/simple/\n",
            "Requirement already satisfied: scikit-image==0.16.2 in /usr/local/lib/python3.7/dist-packages (0.16.2)\n",
            "Requirement already satisfied: scipy>=0.19.0 in /usr/local/lib/python3.7/dist-packages (from scikit-image==0.16.2) (1.4.1)\n",
            "Requirement already satisfied: PyWavelets>=0.4.0 in /usr/local/lib/python3.7/dist-packages (from scikit-image==0.16.2) (1.3.0)\n",
            "Requirement already satisfied: pillow>=4.3.0 in /usr/local/lib/python3.7/dist-packages (from scikit-image==0.16.2) (7.1.2)\n",
            "Requirement already satisfied: imageio>=2.3.0 in /usr/local/lib/python3.7/dist-packages (from scikit-image==0.16.2) (2.4.1)\n",
            "Requirement already satisfied: matplotlib!=3.0.0,>=2.0.0 in /usr/local/lib/python3.7/dist-packages (from scikit-image==0.16.2) (3.2.2)\n",
            "Requirement already satisfied: networkx>=2.0 in /usr/local/lib/python3.7/dist-packages (from scikit-image==0.16.2) (2.6.3)\n",
            "Requirement already satisfied: numpy in /usr/local/lib/python3.7/dist-packages (from imageio>=2.3.0->scikit-image==0.16.2) (1.21.6)\n",
            "Requirement already satisfied: python-dateutil>=2.1 in /usr/local/lib/python3.7/dist-packages (from matplotlib!=3.0.0,>=2.0.0->scikit-image==0.16.2) (2.8.2)\n",
            "Requirement already satisfied: pyparsing!=2.0.4,!=2.1.2,!=2.1.6,>=2.0.1 in /usr/local/lib/python3.7/dist-packages (from matplotlib!=3.0.0,>=2.0.0->scikit-image==0.16.2) (3.0.9)\n",
            "Requirement already satisfied: kiwisolver>=1.0.1 in /usr/local/lib/python3.7/dist-packages (from matplotlib!=3.0.0,>=2.0.0->scikit-image==0.16.2) (1.4.2)\n",
            "Requirement already satisfied: cycler>=0.10 in /usr/local/lib/python3.7/dist-packages (from matplotlib!=3.0.0,>=2.0.0->scikit-image==0.16.2) (0.11.0)\n",
            "Requirement already satisfied: typing-extensions in /usr/local/lib/python3.7/dist-packages (from kiwisolver>=1.0.1->matplotlib!=3.0.0,>=2.0.0->scikit-image==0.16.2) (4.2.0)\n",
            "Requirement already satisfied: six>=1.5 in /usr/local/lib/python3.7/dist-packages (from python-dateutil>=2.1->matplotlib!=3.0.0,>=2.0.0->scikit-image==0.16.2) (1.16.0)\n",
            "Looking in indexes: https://pypi.org/simple, https://us-python.pkg.dev/colab-wheels/public/simple/\n",
            "Requirement already satisfied: imageio in /usr/local/lib/python3.7/dist-packages (2.4.1)\n",
            "Requirement already satisfied: numpy in /usr/local/lib/python3.7/dist-packages (from imageio) (1.21.6)\n",
            "Requirement already satisfied: pillow in /usr/local/lib/python3.7/dist-packages (from imageio) (7.1.2)\n",
            "Looking in indexes: https://pypi.org/simple, https://us-python.pkg.dev/colab-wheels/public/simple/\n",
            "Requirement already satisfied: openslide-python in /usr/local/lib/python3.7/dist-packages (1.1.2)\n",
            "Requirement already satisfied: Pillow in /usr/local/lib/python3.7/dist-packages (from openslide-python) (7.1.2)\n"
          ]
        }
      ],
      "source": [
        ""
      ]
    },
    {
      "cell_type": "markdown",
      "source": [
        "**INSTALL PRE-REQS**"
      ],
      "metadata": {
        "id": "NTm2CEzOhY1B"
      }
    },
    {
      "cell_type": "code",
      "execution_count": null,
      "metadata": {
        "colab": {
          "base_uri": "https://localhost:8080/"
        },
        "id": "l9-m2IEEv7KE",
        "outputId": "1435c682-350b-4c02-e0f0-e8786b9c16bf"
      },
      "outputs": [
        {
          "output_type": "stream",
          "name": "stdout",
          "text": [
            "Mounted at /content/drive\n"
          ]
        }
      ],
      "source": [
        "from google.colab import drive\n",
        "drive.mount('/content/drive')"
      ]
    },
    {
      "cell_type": "code",
      "source": [
        "!pip install 'h5py==2.10.0' --force-reinstall\n",
        "!pip install -U scikit-image==0.16.2\n",
        "!pip install imageio\n",
        "!pip install openslide-python"
      ],
      "metadata": {
        "id": "u-WVqmSihctT"
      },
      "execution_count": null,
      "outputs": []
    },
    {
      "cell_type": "code",
      "execution_count": null,
      "metadata": {
        "colab": {
          "base_uri": "https://localhost:8080/"
        },
        "id": "JFfQB0jHozP6",
        "outputId": "c48b02d2-4e23-4a1c-c674-1afddf4f6395"
      },
      "outputs": [
        {
          "output_type": "stream",
          "name": "stdout",
          "text": [
            "Looking in indexes: https://pypi.org/simple, https://us-python.pkg.dev/colab-wheels/public/simple/\n",
            "Requirement already satisfied: keras==2.1.0 in /usr/local/lib/python3.7/dist-packages (2.1.0)\n",
            "Requirement already satisfied: pyyaml in /usr/local/lib/python3.7/dist-packages (from keras==2.1.0) (3.13)\n",
            "Requirement already satisfied: numpy>=1.9.1 in /usr/local/lib/python3.7/dist-packages (from keras==2.1.0) (1.21.6)\n",
            "Requirement already satisfied: six>=1.9.0 in /usr/local/lib/python3.7/dist-packages (from keras==2.1.0) (1.16.0)\n",
            "Requirement already satisfied: scipy>=0.14 in /usr/local/lib/python3.7/dist-packages (from keras==2.1.0) (1.4.1)\n"
          ]
        }
      ],
      "source": [
        "!pip install -U keras==2.1.0"
      ]
    },
    {
      "cell_type": "markdown",
      "source": [
        "**IMPORT LIBRARIES**"
      ],
      "metadata": {
        "id": "d23-99H0hd4W"
      }
    },
    {
      "cell_type": "code",
      "execution_count": null,
      "metadata": {
        "colab": {
          "base_uri": "https://localhost:8080/"
        },
        "id": "up1MTaFQo9aW",
        "outputId": "85b39ffd-2af0-40b2-8896-caa7b069a141"
      },
      "outputs": [
        {
          "output_type": "stream",
          "name": "stdout",
          "text": [
            "assets\tLICENSE      MaskRCNN_cell  README.md\t      samples\t setup.py\n",
            "images\tMANIFEST.in  mrcnn\t    requirements.txt  setup.cfg  test12.png\n"
          ]
        }
      ],
      "source": [
        "import os\n",
        "# The path below should point to the directory containing this notebook and the associated utility files\n",
        "# Change it if necessary\n",
        "os.chdir('/content/drive/MyDrive/Mask_RCNN')\n",
        "!ls"
      ]
    },
    {
      "cell_type": "code",
      "execution_count": null,
      "metadata": {
        "colab": {
          "base_uri": "https://localhost:8080/"
        },
        "id": "d-wlBKlhpACI",
        "outputId": "da021c8d-aa47-438b-bab0-316867bbd276"
      },
      "outputs": [
        {
          "output_type": "stream",
          "name": "stdout",
          "text": [
            "TensorFlow 1.x selected.\n"
          ]
        }
      ],
      "source": [
        "%tensorflow_version 1.x"
      ]
    },
    {
      "cell_type": "code",
      "execution_count": null,
      "metadata": {
        "id": "lfBYSSDBpCwv"
      },
      "outputs": [],
      "source": [
        "import os\n",
        "import sys\n",
        "from tensorflow.python.keras import backend as K\n",
        "from PIL import Image\n",
        "import json\n",
        "import numpy as np\n",
        "import pandas as pd\n",
        "import time\n",
        "import skimage\n",
        "import matplotlib.pyplot as plt\n",
        "import imageio\n",
        "from PIL import Image, ImageDraw\n"
      ]
    },
    {
      "cell_type": "code",
      "execution_count": null,
      "metadata": {
        "colab": {
          "base_uri": "https://localhost:8080/"
        },
        "id": "0dbrdseFpHwg",
        "outputId": "5d924e50-9b71-4345-9094-9c5efb255369"
      },
      "outputs": [
        {
          "output_type": "stream",
          "name": "stderr",
          "text": [
            "Using TensorFlow backend.\n"
          ]
        }
      ],
      "source": [
        "from mrcnn.config import Config\n",
        "import mrcnn.utils as utils\n",
        "from mrcnn import visualize\n",
        "import mrcnn.model as modellib"
      ]
    },
    {
      "cell_type": "code",
      "execution_count": null,
      "metadata": {
        "id": "_Zv0bUQ_pTmX"
      },
      "outputs": [],
      "source": [
        "import os\n",
        "import sys\n",
        "import json\n",
        "import datetime\n",
        "import numpy as np\n",
        "import skimage.io\n",
        "from imgaug import augmenters as iaa\n",
        "# Import Mask RCNN\n",
        "#sys.path.append(ROOT_DIR)  # To find local version of the library\n",
        "from mrcnn.config import Config\n",
        "from mrcnn import utils\n",
        "from mrcnn import model as modellib\n",
        "from mrcnn import visualize"
      ]
    },
    {
      "cell_type": "markdown",
      "source": [
        "**ROOT DIRECTORY INITIALIZATION**"
      ],
      "metadata": {
        "id": "VMrbaRe3hhe4"
      }
    },
    {
      "cell_type": "code",
      "execution_count": null,
      "metadata": {
        "id": "Qa1NYqzqpJNq"
      },
      "outputs": [],
      "source": [
        "# Make a directory to save trained weights\n",
        "ROOT_DIR = \"/content/drive/MyDrive/\"\n",
        "MODEL_DIR = os.path.join(ROOT_DIR, \"logs\")\n",
        "\n",
        "# path to COCO-dataset weights\n",
        "COCO_MODEL_PATH = os.path.join(ROOT_DIR, \"mask_rcnn_coco.h5\")\n",
        "\n",
        "# Download COCO trained weights from Releases if needed\n",
        "if not os.path.exists(COCO_MODEL_PATH):\n",
        "    utils.download_trained_weights(COCO_MODEL_PATH)"
      ]
    },
    {
      "cell_type": "markdown",
      "source": [
        "**TRAIN DATA LOADING**"
      ],
      "metadata": {
        "id": "S4VBwDwRhm9R"
      }
    },
    {
      "cell_type": "code",
      "execution_count": null,
      "metadata": {
        "colab": {
          "base_uri": "https://localhost:8080/"
        },
        "id": "7k59jE3QpiaI",
        "outputId": "8a94f5a2-52b1-4898-8b6a-5f5cb2338ded"
      },
      "outputs": [
        {
          "output_type": "stream",
          "name": "stdout",
          "text": [
            "Number of training images:  652\n",
            "Number of validation images:  12\n",
            "Number of training masks:  652\n",
            "Number of validation masks:  12\n"
          ]
        },
        {
          "output_type": "stream",
          "name": "stderr",
          "text": [
            "/usr/local/lib/python3.7/dist-packages/ipykernel_launcher.py:7: FutureWarning: The default value of regex will change from True to False in a future version.\n",
            "  import sys\n",
            "/usr/local/lib/python3.7/dist-packages/ipykernel_launcher.py:20: FutureWarning: The default value of regex will change from True to False in a future version.\n",
            "/usr/local/lib/python3.7/dist-packages/ipykernel_launcher.py:32: FutureWarning: The default value of regex will change from True to False in a future version.\n",
            "/usr/local/lib/python3.7/dist-packages/ipykernel_launcher.py:46: FutureWarning: The default value of regex will change from True to False in a future version.\n"
          ]
        }
      ],
      "source": [
        "data = []\n",
        "for file in sorted(os.listdir(r'/content/drive/MyDrive/Train_Dataset_ACV_Project_CPM17/images/')):\n",
        "    data.append(file)\n",
        "\n",
        "# Create a dataframe out of files in the respective directory\n",
        "df_train_data = pd.DataFrame(data, columns=['imageid'])\n",
        "df_train_data['imageid'] = df_train_data['imageid'].str.replace('.jpg','')\n",
        "\n",
        "# make a list out of `image_id` column from the dataframe.\n",
        "train_data_imageid = df_train_data['imageid'].tolist()\n",
        "\n",
        "print('Number of training images: ', len(train_data_imageid))\n",
        "\n",
        "\n",
        "data = []\n",
        "for file in sorted(os.listdir(r'/content/drive/MyDrive/Train_Dataset_ACV_Project_CPM17/val_images/')):\n",
        "    data.append(file)\n",
        "\n",
        "df_validation_data = pd.DataFrame(data, columns=['imageid'])\n",
        "df_validation_data['imageid'] = df_validation_data['imageid'].str.replace('.jpg','')\n",
        "\n",
        "validation_data_imageid = df_validation_data['imageid'].tolist()\n",
        "\n",
        "print('Number of validation images: ', len(validation_data_imageid))\n",
        "\n",
        "\n",
        "data = []\n",
        "for file in sorted(os.listdir(r'/content/drive/MyDrive/Train_Dataset_ACV_Project_CPM17/masks/')):\n",
        "    data.append(file)\n",
        "\n",
        "df_train_mask = pd.DataFrame(data, columns=['imageid'])\n",
        "df_train_mask['imageid'] = df_train_mask['imageid'].str.replace('.jpg','')\n",
        "\n",
        "train_mask_imageid = df_train_mask['imageid'].tolist()\n",
        "\n",
        "print('Number of training masks: ', len(train_mask_imageid))\n",
        "#for i in range(len(train_mask_imageid)):\n",
        "  #print(train_mask_imageid[i])\n",
        "\n",
        "\n",
        "data = []\n",
        "for file in sorted(os.listdir(r'/content/drive/MyDrive/Train_Dataset_ACV_Project_CPM17/val_masks/')):\n",
        "    data.append(file)\n",
        "\n",
        "df_validation_mask = pd.DataFrame(data, columns=['imageid'])\n",
        "df_validation_mask['imageid'] = df_validation_mask['imageid'].str.replace('.jpg','')\n",
        "\n",
        "validation_mask_imageid = df_validation_mask['imageid'].tolist()\n",
        "\n",
        "print('Number of validation masks: ', len(validation_mask_imageid))\n",
        "\n",
        "\n"
      ]
    },
    {
      "cell_type": "markdown",
      "source": [
        "**MODEL CLASS CONFIGURATION**"
      ],
      "metadata": {
        "id": "Y1Q2Tc5bhsx1"
      }
    },
    {
      "cell_type": "code",
      "execution_count": null,
      "metadata": {
        "colab": {
          "base_uri": "https://localhost:8080/"
        },
        "id": "7OVjsquFpLrz",
        "outputId": "4694021b-8fc2-46af-d718-9c13d13af4e5"
      },
      "outputs": [
        {
          "output_type": "stream",
          "name": "stdout",
          "text": [
            "\n",
            "Configurations:\n",
            "BACKBONE                       resnet50\n",
            "BACKBONE_STRIDES               [4, 8, 16, 32, 64]\n",
            "BATCH_SIZE                     6\n",
            "BBOX_STD_DEV                   [0.1 0.1 0.2 0.2]\n",
            "COMPUTE_BACKBONE_SHAPE         None\n",
            "DETECTION_MAX_INSTANCES        400\n",
            "DETECTION_MIN_CONFIDENCE       0\n",
            "DETECTION_NMS_THRESHOLD        0.3\n",
            "FPN_CLASSIF_FC_LAYERS_SIZE     1024\n",
            "GPU_COUNT                      1\n",
            "GRADIENT_CLIP_NORM             5.0\n",
            "IMAGES_PER_GPU                 6\n",
            "IMAGE_CHANNEL_COUNT            3\n",
            "IMAGE_MAX_DIM                  512\n",
            "IMAGE_META_SIZE                14\n",
            "IMAGE_MIN_DIM                  512\n",
            "IMAGE_MIN_SCALE                2.0\n",
            "IMAGE_RESIZE_MODE              crop\n",
            "IMAGE_SHAPE                    [512 512   3]\n",
            "LEARNING_MOMENTUM              0.9\n",
            "LEARNING_RATE                  0.001\n",
            "LOSS_WEIGHTS                   {'rpn_class_loss': 1.0, 'rpn_bbox_loss': 1.0, 'mrcnn_class_loss': 1.0, 'mrcnn_bbox_loss': 1.0, 'mrcnn_mask_loss': 1.0}\n",
            "MASK_POOL_SIZE                 14\n",
            "MASK_SHAPE                     [28, 28]\n",
            "MAX_GT_INSTANCES               200\n",
            "MEAN_PIXEL                     [47.49 41.63 51.28]\n",
            "MINI_MASK_SHAPE                (56, 56)\n",
            "NAME                           nucleus\n",
            "NUM_CLASSES                    2\n",
            "POOL_SIZE                      7\n",
            "POST_NMS_ROIS_INFERENCE        2000\n",
            "POST_NMS_ROIS_TRAINING         1000\n",
            "PRE_NMS_LIMIT                  6000\n",
            "ROI_POSITIVE_RATIO             0.33\n",
            "RPN_ANCHOR_RATIOS              [0.5, 1, 2]\n",
            "RPN_ANCHOR_SCALES              (8, 16, 32, 64, 128)\n",
            "RPN_ANCHOR_STRIDE              1\n",
            "RPN_BBOX_STD_DEV               [0.1 0.1 0.2 0.2]\n",
            "RPN_NMS_THRESHOLD              0.9\n",
            "RPN_TRAIN_ANCHORS_PER_IMAGE    64\n",
            "STEPS_PER_EPOCH                110\n",
            "TOP_DOWN_PYRAMID_SIZE          256\n",
            "TRAIN_BN                       False\n",
            "TRAIN_ROIS_PER_IMAGE           128\n",
            "USE_MINI_MASK                  True\n",
            "USE_RPN_ROIS                   True\n",
            "VALIDATION_STEPS               2\n",
            "WEIGHT_DECAY                   0.0001\n",
            "\n",
            "\n"
          ]
        }
      ],
      "source": [
        "class NucleusConfig(Config):\n",
        "    \"\"\"Configuration for training on the nucleus segmentation dataset.\"\"\"\n",
        "    # Give the configuration a recognizable name\n",
        "    NAME = \"nucleus\"\n",
        "\n",
        "    # Adjust depending on your GPU memory\n",
        "    IMAGES_PER_GPU = 6\n",
        "\n",
        "    # Number of classes (including background)\n",
        "    NUM_CLASSES = 1 + 1  # Background + nucleus\n",
        "\n",
        "    # Number of training and validation steps per epoch\n",
        "    STEPS_PER_EPOCH = (675 - len(validation_data_imageid)) // IMAGES_PER_GPU\n",
        "    VALIDATION_STEPS = max(1, len(validation_data_imageid) // IMAGES_PER_GPU)\n",
        "\n",
        "    # Don't exclude based on confidence. Since we have two classes\n",
        "    # then 0.5 is the minimum anyway as it picks between nucleus and BG\n",
        "    DETECTION_MIN_CONFIDENCE = 0\n",
        "\n",
        "    # Backbone network architecture\n",
        "    # Supported values are: resnet50, resnet101\n",
        "    BACKBONE = \"resnet50\"\n",
        "\n",
        "    # Input image resizing\n",
        "    # Random crops of size 512x512\n",
        "    IMAGE_RESIZE_MODE = \"crop\"\n",
        "    IMAGE_MIN_DIM = 512\n",
        "    IMAGE_MAX_DIM = 512\n",
        "    IMAGE_MIN_SCALE = 2.0\n",
        "\n",
        "    # Length of square anchor side in pixels\n",
        "    RPN_ANCHOR_SCALES = (8, 16, 32, 64, 128)\n",
        "\n",
        "    # ROIs kept after non-maximum supression (training and inference)\n",
        "    POST_NMS_ROIS_TRAINING = 1000\n",
        "    POST_NMS_ROIS_INFERENCE = 2000\n",
        "\n",
        "    # Non-max suppression threshold to filter RPN proposals.\n",
        "    # You can increase this during training to generate more propsals.\n",
        "    RPN_NMS_THRESHOLD = 0.9\n",
        "\n",
        "    # How many anchors per image to use for RPN training\n",
        "    RPN_TRAIN_ANCHORS_PER_IMAGE = 64\n",
        "\n",
        "    # Image mean (RGB)\n",
        "#     MEAN_PIXEL = np.array([43.53, 39.56, 48.22])\n",
        "    MEAN_PIXEL = np.array([47.49, 41.63, 51.28])\n",
        "\n",
        "    # If enabled, resizes instance masks to a smaller size to reduce\n",
        "    # memory load. Recommended when using high-resolution images.\n",
        "    USE_MINI_MASK = True\n",
        "    MINI_MASK_SHAPE = (56, 56)  # (height, width) of the mini-mask\n",
        "\n",
        "    # Number of ROIs per image to feed to classifier/mask heads\n",
        "    # The Mask RCNN paper uses 512 but often the RPN doesn't generate\n",
        "    # enough positive proposals to fill this and keep a positive:negative\n",
        "    # ratio of 1:3. You can increase the number of proposals by adjusting\n",
        "    # the RPN NMS threshold.\n",
        "    TRAIN_ROIS_PER_IMAGE = 128\n",
        "\n",
        "    # Maximum number of ground truth instances to use in one image\n",
        "    MAX_GT_INSTANCES = 200\n",
        "#     MAX_GT_INSTANCES = 2000\n",
        "    #LEARNING_RATE = 0.000001\n",
        "    # Max number of final detections per image\n",
        "    DETECTION_MAX_INSTANCES = 400\n",
        "#     DETECTION_MAX_INSTANCES = 2000\n",
        "    \n",
        "config = NucleusConfig()\n",
        "config.display()"
      ]
    },
    {
      "cell_type": "markdown",
      "source": [
        "**DATASET LOADING**"
      ],
      "metadata": {
        "id": "EzWt-VzjiUeM"
      }
    },
    {
      "cell_type": "code",
      "execution_count": null,
      "metadata": {
        "id": "x1ZwSSKCppY7"
      },
      "outputs": [],
      "source": [
        "class NucleusDataset(utils.Dataset):\n",
        "\n",
        "    def load_data(self, image_ids):\n",
        "   \n",
        "        self.add_class('nucleus', 1, 'Nucleus')\n",
        "        #self.add_class(\"nucleus\", 2, \"2\")\n",
        "        #self.add_class(\"nucleus\", 3, \"3\")\n",
        "        #self.add_class(\"nucleus\", 4, \"4\")\n",
        "       # self.add_class(\"nucleus\", 5, \"fibroblast\")\n",
        "       # self.add_class(\"nucleus\", 6, \"muscle\")\n",
        "       # self.add_class(\"nucleus\", 7, \"endothelial\")\n",
        "       \n",
        "        # Add the image using the base method from utils.Dataset\n",
        "        if(image_ids == train_data_imageid):\n",
        "          for image in image_ids:\n",
        "              self.add_image('nucleus', \n",
        "                            image_id=image, \n",
        "                            path=('/content/drive/MyDrive/Train_Dataset_ACV_Project_CPM17/images/' + image), \n",
        "                            labels=1)\n",
        "              #print(image)\n",
        "        if(image_ids == validation_data_imageid):\n",
        "           for image in image_ids:\n",
        "              self.add_image('nucleus', \n",
        "                            image_id=image, \n",
        "                            path=('/content/drive/MyDrive/Train_Dataset_ACV_Project_CPM17/val_images/' + image  ), \n",
        "                            labels=1) \n",
        "              \n",
        "    def load_mask(self, image_id):\n",
        "  \n",
        "        info = self.image_info[image_id]\n",
        "        image_id = info['id']\n",
        "        data = []\n",
        "        for file in sorted(os.listdir(r'/content/drive/MyDrive/Train_Dataset_ACV_Project_CPM17/masks/')):\n",
        "            data.append(file)\n",
        "            #print(file)\n",
        "        matching = [s for s in data if image_id in s]\n",
        "        \n",
        "        result = [] \n",
        "        \n",
        "        for match in matching:\n",
        "            im = Image.open('/content/drive/MyDrive/Train_Dataset_ACV_Project_CPM17/masks//{}'.format(match))\n",
        "            im = np.asarray(im)\n",
        "            im = im.reshape((im.shape[0], im.shape[1], 1))\n",
        "            result.append(im)\n",
        "            \n",
        "        # n (512, 512) arrays -> (512, 512, n)\n",
        "        im = np.dstack(result)\n",
        "        \n",
        "        # class_ids should be a numpy array not python list.\n",
        "        class_ids = np.array([1 for _ in range(im.shape[-1])])\n",
        "        return im, class_ids\n",
        "\n",
        "    def image_reference(self, image_id):\n",
        "        \"\"\"Return the path of the image.\"\"\"\n",
        "        info = self.image_info[image_id]\n",
        "        if info[\"source\"] == \"nucleus\":\n",
        "            return info[\"id\"]\n",
        "        else:\n",
        "            super(self.__class__, self).image_reference(image_id)"
      ]
    },
    {
      "cell_type": "markdown",
      "source": [
        "**TRAINING AND INFERENCE FUNCTIONS**"
      ],
      "metadata": {
        "id": "P7vmk89-iZeb"
      }
    },
    {
      "cell_type": "code",
      "execution_count": null,
      "metadata": {
        "id": "LXMI8dBQqKIx"
      },
      "outputs": [],
      "source": [
        "def train(model):\n",
        "    \"\"\"Train the model.\"\"\"\n",
        "    # Training dataset.\n",
        "    dataset_train = NucleusDataset()\n",
        "    dataset_train.load_data(train_data_imageid)\n",
        "    dataset_train.prepare()\n",
        "\n",
        "    # Validation dataset\n",
        "    dataset_val = NucleusDataset()\n",
        "    dataset_val.load_data(validation_data_imageid)\n",
        "    dataset_val.prepare()\n",
        "\n",
        "    # Image augmentation\n",
        "    # http://imgaug.readthedocs.io/en/latest/source/augmenters.html\n",
        "    augmentation = iaa.SomeOf((0, 2), [\n",
        "        iaa.Fliplr(0.5),\n",
        "        iaa.Flipud(0.5),\n",
        "        iaa.OneOf([iaa.Affine(rotate=90),\n",
        "                   iaa.Affine(rotate=180),\n",
        "                   iaa.Affine(rotate=270)]),\n",
        "        iaa.Multiply((0.8, 1.5)),\n",
        "        iaa.GaussianBlur(sigma=(0.0, 5.0))\n",
        "    ])\n",
        "\n",
        "    # *** This training schedule is an example. Update to your needs ***\n",
        "\n",
        "    # If starting from imagenet, train heads only for a bit\n",
        "    # since they have random weights\n",
        "#     print(\"Train network heads\")\n",
        "#     model.train(dataset_train, dataset_val,\n",
        "#                 learning_rate=config.LEARNING_RATE,\n",
        "#                 epochs=20,\n",
        "#                 augmentation=augmentation,\n",
        "#                 layers='heads')\n",
        "    \n",
        "    print(\"Train all layers\")\n",
        "    x_epoch, y_tra_loss, y_val_loss = model.train(dataset_train, dataset_val,\n",
        "                learning_rate=config.LEARNING_RATE,\n",
        "                epochs=50,\n",
        "                augmentation=augmentation,\n",
        "                layers='all')\n",
        "    return x_epoch, y_tra_loss, y_val_loss "
      ]
    },
    {
      "cell_type": "markdown",
      "source": [
        "**TRAIN LOSS AND VALIDATION LOSS PLOT FUNCTION**"
      ],
      "metadata": {
        "id": "82kg9C2Oihc-"
      }
    },
    {
      "cell_type": "code",
      "source": [
        "def loss_visualize(epoch, tra_loss, val_loss):\n",
        "    plt.style.use(\"ggplot\")\n",
        "    plt.figure()\n",
        "    plt.subplot(1, 1, 1)\n",
        "    plt.title(\"Epoch_Loss\")\n",
        "    plt.plot(epoch, tra_loss, label='train_loss', color='r', linestyle='-', marker='o')\n",
        "    plt.plot(epoch, val_loss, label='val_loss', linestyle='-', color='b', marker='^')\n",
        "    plt.legend()\n",
        "    plt.xlabel('epoch')\n",
        "    plt.ylabel('loss')\n",
        "   # plt.savefig(os.path.join(RESULT_DIR, 'loss.jpg'))\n",
        "    plt.show()"
      ],
      "metadata": {
        "id": "PAioPHCRyHzp"
      },
      "execution_count": null,
      "outputs": []
    },
    {
      "cell_type": "code",
      "execution_count": null,
      "metadata": {
        "id": "AZIlZ94GrciB"
      },
      "outputs": [],
      "source": [
        "def rle_encode(mask):\n",
        "    \"\"\"Encodes a mask in Run Length Encoding (RLE).\n",
        "    Returns a string of space-separated values.\n",
        "    \"\"\"\n",
        "    assert mask.ndim == 2, \"Mask must be of shape [Height, Width]\"\n",
        "    # Flatten it column wise\n",
        "    m = mask.T.flatten()\n",
        "    # Compute gradient. Equals 1 or -1 at transition points\n",
        "    g = np.diff(np.concatenate([[0], m, [0]]), n=1)\n",
        "    # 1-based indicies of transition points (where gradient != 0)\n",
        "    rle = np.where(g != 0)[0].reshape([-1, 2]) + 1\n",
        "    # Convert second index in each pair to lenth\n",
        "    rle[:, 1] = rle[:, 1] - rle[:, 0]\n",
        "    return \" \".join(map(str, rle.flatten()))\n",
        "\n",
        "\n",
        "def rle_decode(rle, shape):\n",
        "    \"\"\"Decodes an RLE encoded list of space separated\n",
        "    numbers and returns a binary mask.\"\"\"\n",
        "    rle = list(map(int, rle.split()))\n",
        "    rle = np.array(rle, dtype=np.int32).reshape([-1, 2])\n",
        "    rle[:, 1] += rle[:, 0]\n",
        "    rle -= 1\n",
        "    mask = np.zeros([shape[0] * shape[1]], np.bool)\n",
        "    for s, e in rle:\n",
        "        assert 0 <= s < mask.shape[0]\n",
        "        assert 1 <= e <= mask.shape[0], \"shape: {}  s {}  e {}\".format(shape, s, e)\n",
        "        mask[s:e] = 1\n",
        "    # Reshape and transpose\n",
        "    mask = mask.reshape([shape[1], shape[0]]).T\n",
        "    return mask\n",
        "\n",
        "\n",
        "def mask_to_rle(image_id, mask, scores):\n",
        "    \"Encodes instance masks to submission format.\"\n",
        "    assert mask.ndim == 3, \"Mask must be [H, W, count]\"\n",
        "    # If mask is empty, return line with image ID only\n",
        "    if mask.shape[-1] == 0:\n",
        "        return \"{},\".format(image_id)\n",
        "    # Remove mask overlaps\n",
        "    # Multiply each instance mask by its score order\n",
        "    # then take the maximum across the last dimension\n",
        "    order = np.argsort(scores)[::-1] + 1  # 1-based descending\n",
        "    mask = np.max(mask * np.reshape(order, [1, 1, -1]), -1)\n",
        "    # Loop over instance masks\n",
        "    lines = []\n",
        "    for o in order:\n",
        "        m = np.where(mask == o, 1, 0)\n",
        "        # Skip if empty\n",
        "        if m.sum() == 0.0:\n",
        "            continue\n",
        "        rle = rle_encode(m)\n",
        "        lines.append(\"{}, {}\".format(image_id, rle))\n",
        "    return \"\\n\".join(lines)\n",
        "\n",
        "\n",
        "############################################################\n",
        "#  Detection\n",
        "############################################################\n",
        "\n",
        "def detect(model, dataset_dir):\n",
        "    \"\"\"Run detection on images in the given directory.\"\"\"\n",
        "    print(\"Running on {}\".format(dataset_dir))\n",
        "\n",
        "\n",
        "    # Read dataset\n",
        "    dataset = NucleusDataset()\n",
        "    dataset.load_data(dataset_dir)\n",
        "    dataset.prepare()\n",
        "    # Load over images\n",
        "    submission = []\n",
        "    for image_id in dataset.image_ids:\n",
        "        # Load image and run detection\n",
        "        image = dataset.load_image(image_id)\n",
        "        # Detect objects\n",
        "        r = model.detect([image], verbose=0)[0]\n",
        "        # Encode image to RLE. Returns a string of multiple lines\n",
        "        source_id = dataset.image_info[image_id][\"id\"]\n",
        "        rle = mask_to_rle(source_id, r[\"masks\"], r[\"scores\"])\n",
        "        submission.append(rle)\n",
        "        # Save image with masks\n",
        "        visualize.display_instances(\n",
        "            image, r['rois'], r['masks'], r['class_ids'],\n",
        "            dataset.class_names, r['scores'],\n",
        "            show_bbox=False, show_mask=False,\n",
        "            title=\"Predictions\")\n",
        "        #plt.savefig(\"{}/{}.png\".format(submit_dir, dataset.image_info[image_id][\"id\"]))\n",
        "\n",
        "    # Save to csv file\n",
        "    #submission = \"ImageId,EncodedPixels\\n\" + \"\\n\".join(submission)\n",
        "    #file_path = os.path.join(submit_dir, \"submit.csv\")\n",
        "    #with open(file_path, \"w\") as f:\n",
        "     #   f.write(submission)\n",
        "    #print(\"Saved to \", submit_dir)\n"
      ]
    },
    {
      "cell_type": "markdown",
      "source": [
        "**MODEL INITIALIZATION**"
      ],
      "metadata": {
        "id": "4Xu-2VIDim0C"
      }
    },
    {
      "cell_type": "code",
      "execution_count": null,
      "metadata": {
        "id": "Ga4gkq0Wrx9m",
        "colab": {
          "base_uri": "https://localhost:8080/"
        },
        "outputId": "8d296792-a865-4dce-9702-78354ec03993"
      },
      "outputs": [
        {
          "output_type": "stream",
          "name": "stdout",
          "text": [
            "WARNING:tensorflow:From /usr/local/lib/python3.7/dist-packages/keras/backend/tensorflow_backend.py:492: The name tf.placeholder is deprecated. Please use tf.compat.v1.placeholder instead.\n",
            "\n",
            "WARNING:tensorflow:From /usr/local/lib/python3.7/dist-packages/keras/backend/tensorflow_backend.py:63: The name tf.get_default_graph is deprecated. Please use tf.compat.v1.get_default_graph instead.\n",
            "\n",
            "WARNING:tensorflow:From /usr/local/lib/python3.7/dist-packages/keras/backend/tensorflow_backend.py:3630: The name tf.random_uniform is deprecated. Please use tf.random.uniform instead.\n",
            "\n",
            "WARNING:tensorflow:From /usr/local/lib/python3.7/dist-packages/keras/backend/tensorflow_backend.py:3458: The name tf.nn.max_pool is deprecated. Please use tf.nn.max_pool2d instead.\n",
            "\n",
            "WARNING:tensorflow:From /usr/local/lib/python3.7/dist-packages/keras/backend/tensorflow_backend.py:1822: The name tf.image.resize_nearest_neighbor is deprecated. Please use tf.compat.v1.image.resize_nearest_neighbor instead.\n",
            "\n",
            "WARNING:tensorflow:From /usr/local/lib/python3.7/dist-packages/keras/backend/tensorflow_backend.py:1208: calling reduce_max_v1 (from tensorflow.python.ops.math_ops) with keep_dims is deprecated and will be removed in a future version.\n",
            "Instructions for updating:\n",
            "keep_dims is deprecated, use keepdims instead\n",
            "WARNING:tensorflow:From /usr/local/lib/python3.7/dist-packages/keras/backend/tensorflow_backend.py:1242: calling reduce_sum_v1 (from tensorflow.python.ops.math_ops) with keep_dims is deprecated and will be removed in a future version.\n",
            "Instructions for updating:\n",
            "keep_dims is deprecated, use keepdims instead\n",
            "WARNING:tensorflow:From /tensorflow-1.15.2/python3.7/tensorflow_core/python/ops/array_ops.py:1475: where (from tensorflow.python.ops.array_ops) is deprecated and will be removed in a future version.\n",
            "Instructions for updating:\n",
            "Use tf.where in 2.0, which has the same broadcast rule as np.where\n",
            "WARNING:tensorflow:From /content/drive/.shortcut-targets-by-id/1o8-UTp8RYrlNzqDPIuBCThQh2hh5FnWI/Mask_RCNN/mrcnn/model.py:553: The name tf.random_shuffle is deprecated. Please use tf.random.shuffle instead.\n",
            "\n",
            "WARNING:tensorflow:From /content/drive/.shortcut-targets-by-id/1o8-UTp8RYrlNzqDPIuBCThQh2hh5FnWI/Mask_RCNN/mrcnn/utils.py:202: The name tf.log is deprecated. Please use tf.math.log instead.\n",
            "\n",
            "WARNING:tensorflow:From /content/drive/.shortcut-targets-by-id/1o8-UTp8RYrlNzqDPIuBCThQh2hh5FnWI/Mask_RCNN/mrcnn/model.py:600: calling crop_and_resize_v1 (from tensorflow.python.ops.image_ops_impl) with box_ind is deprecated and will be removed in a future version.\n",
            "Instructions for updating:\n",
            "box_ind is deprecated, use box_indices instead\n"
          ]
        }
      ],
      "source": [
        "model = modellib.MaskRCNN(mode=\"training\", config=config,\n",
        "                                  model_dir=MODEL_DIR)"
      ]
    },
    {
      "cell_type": "code",
      "execution_count": null,
      "metadata": {
        "id": "K6sbQv02_zGj"
      },
      "outputs": [],
      "source": [
        "# Which weights to start with?\n",
        "init_with = \"coco\"  # imagenet, coco, or last\n",
        "\n",
        "if init_with == \"imagenet\":\n",
        "    model.load_weights(model.get_imagenet_weights(), by_name=True)\n",
        "elif init_with == \"coco\":\n",
        "    # Load weights trained on MS COCO, but skip layers that\n",
        "    # are different due to the different number of classes\n",
        "    model.load_weights(COCO_MODEL_PATH, by_name=True,\n",
        "                       exclude=[\"mrcnn_class_logits\", \"mrcnn_bbox_fc\", \n",
        "                                \"mrcnn_bbox\", \"mrcnn_mask\"])\n",
        "elif init_with == \"last\":\n",
        "    # Load the last model you trained and continue training\n",
        "    model.load_weights(model.find_last()[1], by_name=True)"
      ]
    },
    {
      "cell_type": "code",
      "execution_count": null,
      "metadata": {
        "colab": {
          "base_uri": "https://localhost:8080/"
        },
        "id": "lBuCfg8UsbcW",
        "outputId": "34e03ef1-1e22-4e41-9494-69265a27d5d2"
      },
      "outputs": [
        {
          "metadata": {
            "tags": null
          },
          "name": "stdout",
          "output_type": "stream",
          "text": [
            "Train all layers\n",
            "\n",
            "Starting at epoch 0. LR=0.001\n",
            "\n",
            "Checkpoint Path: /content/drive/MyDrive/logs/nucleus20220612T1033/mask_rcnn_nucleus_{epoch:04d}.h5\n",
            "Selecting layers to train\n",
            "conv1                  (Conv2D)\n",
            "bn_conv1               (BatchNorm)\n",
            "res2a_branch2a         (Conv2D)\n",
            "bn2a_branch2a          (BatchNorm)\n",
            "res2a_branch2b         (Conv2D)\n",
            "bn2a_branch2b          (BatchNorm)\n",
            "res2a_branch2c         (Conv2D)\n",
            "res2a_branch1          (Conv2D)\n",
            "bn2a_branch2c          (BatchNorm)\n",
            "bn2a_branch1           (BatchNorm)\n",
            "res2b_branch2a         (Conv2D)\n",
            "bn2b_branch2a          (BatchNorm)\n",
            "res2b_branch2b         (Conv2D)\n",
            "bn2b_branch2b          (BatchNorm)\n",
            "res2b_branch2c         (Conv2D)\n",
            "bn2b_branch2c          (BatchNorm)\n",
            "res2c_branch2a         (Conv2D)\n",
            "bn2c_branch2a          (BatchNorm)\n",
            "res2c_branch2b         (Conv2D)\n",
            "bn2c_branch2b          (BatchNorm)\n",
            "res2c_branch2c         (Conv2D)\n",
            "bn2c_branch2c          (BatchNorm)\n",
            "res3a_branch2a         (Conv2D)\n",
            "bn3a_branch2a          (BatchNorm)\n",
            "res3a_branch2b         (Conv2D)\n",
            "bn3a_branch2b          (BatchNorm)\n",
            "res3a_branch2c         (Conv2D)\n",
            "res3a_branch1          (Conv2D)\n",
            "bn3a_branch2c          (BatchNorm)\n",
            "bn3a_branch1           (BatchNorm)\n",
            "res3b_branch2a         (Conv2D)\n",
            "bn3b_branch2a          (BatchNorm)\n",
            "res3b_branch2b         (Conv2D)\n",
            "bn3b_branch2b          (BatchNorm)\n",
            "res3b_branch2c         (Conv2D)\n",
            "bn3b_branch2c          (BatchNorm)\n",
            "res3c_branch2a         (Conv2D)\n",
            "bn3c_branch2a          (BatchNorm)\n",
            "res3c_branch2b         (Conv2D)\n",
            "bn3c_branch2b          (BatchNorm)\n",
            "res3c_branch2c         (Conv2D)\n",
            "bn3c_branch2c          (BatchNorm)\n",
            "res3d_branch2a         (Conv2D)\n",
            "bn3d_branch2a          (BatchNorm)\n",
            "res3d_branch2b         (Conv2D)\n",
            "bn3d_branch2b          (BatchNorm)\n",
            "res3d_branch2c         (Conv2D)\n",
            "bn3d_branch2c          (BatchNorm)\n",
            "res4a_branch2a         (Conv2D)\n",
            "bn4a_branch2a          (BatchNorm)\n",
            "res4a_branch2b         (Conv2D)\n",
            "bn4a_branch2b          (BatchNorm)\n",
            "res4a_branch2c         (Conv2D)\n",
            "res4a_branch1          (Conv2D)\n",
            "bn4a_branch2c          (BatchNorm)\n",
            "bn4a_branch1           (BatchNorm)\n",
            "res4b_branch2a         (Conv2D)\n",
            "bn4b_branch2a          (BatchNorm)\n",
            "res4b_branch2b         (Conv2D)\n",
            "bn4b_branch2b          (BatchNorm)\n",
            "res4b_branch2c         (Conv2D)\n",
            "bn4b_branch2c          (BatchNorm)\n",
            "res4c_branch2a         (Conv2D)\n",
            "bn4c_branch2a          (BatchNorm)\n",
            "res4c_branch2b         (Conv2D)\n",
            "bn4c_branch2b          (BatchNorm)\n",
            "res4c_branch2c         (Conv2D)\n",
            "bn4c_branch2c          (BatchNorm)\n",
            "res4d_branch2a         (Conv2D)\n",
            "bn4d_branch2a          (BatchNorm)\n",
            "res4d_branch2b         (Conv2D)\n",
            "bn4d_branch2b          (BatchNorm)\n",
            "res4d_branch2c         (Conv2D)\n",
            "bn4d_branch2c          (BatchNorm)\n",
            "res4e_branch2a         (Conv2D)\n",
            "bn4e_branch2a          (BatchNorm)\n",
            "res4e_branch2b         (Conv2D)\n",
            "bn4e_branch2b          (BatchNorm)\n",
            "res4e_branch2c         (Conv2D)\n",
            "bn4e_branch2c          (BatchNorm)\n",
            "res4f_branch2a         (Conv2D)\n",
            "bn4f_branch2a          (BatchNorm)\n",
            "res4f_branch2b         (Conv2D)\n",
            "bn4f_branch2b          (BatchNorm)\n",
            "res4f_branch2c         (Conv2D)\n",
            "bn4f_branch2c          (BatchNorm)\n",
            "res5a_branch2a         (Conv2D)\n",
            "bn5a_branch2a          (BatchNorm)\n",
            "res5a_branch2b         (Conv2D)\n",
            "bn5a_branch2b          (BatchNorm)\n",
            "res5a_branch2c         (Conv2D)\n",
            "res5a_branch1          (Conv2D)\n",
            "bn5a_branch2c          (BatchNorm)\n",
            "bn5a_branch1           (BatchNorm)\n",
            "res5b_branch2a         (Conv2D)\n",
            "bn5b_branch2a          (BatchNorm)\n",
            "res5b_branch2b         (Conv2D)\n",
            "bn5b_branch2b          (BatchNorm)\n",
            "res5b_branch2c         (Conv2D)\n",
            "bn5b_branch2c          (BatchNorm)\n",
            "res5c_branch2a         (Conv2D)\n",
            "bn5c_branch2a          (BatchNorm)\n",
            "res5c_branch2b         (Conv2D)\n",
            "bn5c_branch2b          (BatchNorm)\n",
            "res5c_branch2c         (Conv2D)\n",
            "bn5c_branch2c          (BatchNorm)\n",
            "fpn_c5p5               (Conv2D)\n",
            "fpn_c4p4               (Conv2D)\n",
            "fpn_c3p3               (Conv2D)\n",
            "fpn_c2p2               (Conv2D)\n",
            "fpn_p5                 (Conv2D)\n",
            "fpn_p2                 (Conv2D)\n",
            "fpn_p3                 (Conv2D)\n",
            "fpn_p4                 (Conv2D)\n",
            "In model:  rpn_model\n",
            "    rpn_conv_shared        (Conv2D)\n",
            "    rpn_class_raw          (Conv2D)\n",
            "    rpn_bbox_pred          (Conv2D)\n",
            "mrcnn_mask_conv1       (TimeDistributed)\n",
            "mrcnn_mask_bn1         (TimeDistributed)\n",
            "mrcnn_mask_conv2       (TimeDistributed)\n",
            "mrcnn_mask_bn2         (TimeDistributed)\n",
            "mrcnn_class_conv1      (TimeDistributed)\n",
            "mrcnn_class_bn1        (TimeDistributed)\n",
            "mrcnn_mask_conv3       (TimeDistributed)\n",
            "mrcnn_mask_bn3         (TimeDistributed)\n",
            "mrcnn_class_conv2      (TimeDistributed)\n",
            "mrcnn_class_bn2        (TimeDistributed)\n",
            "mrcnn_mask_conv4       (TimeDistributed)\n",
            "mrcnn_mask_bn4         (TimeDistributed)\n",
            "mrcnn_bbox_fc          (TimeDistributed)\n",
            "mrcnn_mask_deconv      (TimeDistributed)\n",
            "mrcnn_class_logits     (TimeDistributed)\n",
            "mrcnn_mask             (TimeDistributed)\n",
            "WARNING:tensorflow:From /usr/local/lib/python3.7/dist-packages/keras/optimizers.py:711: The name tf.train.Optimizer is deprecated. Please use tf.compat.v1.train.Optimizer instead.\n",
            "\n"
          ]
        },
        {
          "metadata": {
            "tags": null
          },
          "name": "stderr",
          "output_type": "stream",
          "text": [
            "/tensorflow-1.15.2/python3.7/tensorflow_core/python/framework/indexed_slices.py:424: UserWarning: Converting sparse IndexedSlices to a dense Tensor of unknown shape. This may consume a large amount of memory.\n",
            "  \"Converting sparse IndexedSlices to a dense Tensor of unknown shape. \"\n",
            "/tensorflow-1.15.2/python3.7/tensorflow_core/python/framework/indexed_slices.py:424: UserWarning: Converting sparse IndexedSlices to a dense Tensor of unknown shape. This may consume a large amount of memory.\n",
            "  \"Converting sparse IndexedSlices to a dense Tensor of unknown shape. \"\n",
            "/tensorflow-1.15.2/python3.7/tensorflow_core/python/framework/indexed_slices.py:424: UserWarning: Converting sparse IndexedSlices to a dense Tensor of unknown shape. This may consume a large amount of memory.\n",
            "  \"Converting sparse IndexedSlices to a dense Tensor of unknown shape. \"\n"
          ]
        },
        {
          "metadata": {
            "tags": null
          },
          "name": "stdout",
          "output_type": "stream",
          "text": [
            "WARNING:tensorflow:From /usr/local/lib/python3.7/dist-packages/keras/backend/tensorflow_backend.py:953: The name tf.assign_add is deprecated. Please use tf.compat.v1.assign_add instead.\n",
            "\n",
            "WARNING:tensorflow:From /usr/local/lib/python3.7/dist-packages/keras/backend/tensorflow_backend.py:675: calling Constant.__init__ (from tensorflow.python.ops.init_ops) with dtype is deprecated and will be removed in a future version.\n",
            "Instructions for updating:\n",
            "Call initializer instance with the dtype argument instead of passing it to the constructor\n",
            "WARNING:tensorflow:From /usr/local/lib/python3.7/dist-packages/keras/backend/tensorflow_backend.py:940: The name tf.assign is deprecated. Please use tf.compat.v1.assign instead.\n",
            "\n",
            "WARNING:tensorflow:From /usr/local/lib/python3.7/dist-packages/keras/callbacks.py:705: The name tf.summary.merge_all is deprecated. Please use tf.compat.v1.summary.merge_all instead.\n",
            "\n",
            "WARNING:tensorflow:From /usr/local/lib/python3.7/dist-packages/keras/callbacks.py:708: The name tf.summary.FileWriter is deprecated. Please use tf.compat.v1.summary.FileWriter instead.\n",
            "\n"
          ]
        },
        {
          "metadata": {
            "tags": null
          },
          "name": "stderr",
          "output_type": "stream",
          "text": [
            "/usr/local/lib/python3.7/dist-packages/keras/engine/training.py:2039: UserWarning: Using a generator with `use_multiprocessing=True` and multiple workers may duplicate your data. Please consider using the`keras.utils.Sequence class.\n",
            "  UserWarning('Using a generator with `use_multiprocessing=True`'\n"
          ]
        },
        {
          "metadata": {
            "tags": null
          },
          "name": "stdout",
          "output_type": "stream",
          "text": [
            "Epoch 1/30\n",
            "109/110 [============================>.] - ETA: 1s - loss: 3.1230 - rpn_class_loss: 0.0539 - rpn_bbox_loss: 2.3313 - mrcnn_class_loss: 0.0752 - mrcnn_bbox_loss: 0.1972 - mrcnn_mask_loss: 0.4653"
          ]
        },
        {
          "metadata": {
            "tags": null
          },
          "name": "stderr",
          "output_type": "stream",
          "text": [
            "/usr/local/lib/python3.7/dist-packages/keras/engine/training.py:2197: UserWarning: Using a generator with `use_multiprocessing=True` and multiple workers may duplicate your data. Please consider using the`keras.utils.Sequence class.\n",
            "  UserWarning('Using a generator with `use_multiprocessing=True`'\n"
          ]
        },
        {
          "output_type": "stream",
          "name": "stdout",
          "text": [
            "WARNING:tensorflow:From /usr/local/lib/python3.7/dist-packages/keras/callbacks.py:791: The name tf.Summary is deprecated. Please use tf.compat.v1.Summary instead.\n",
            "\n",
            "110/110 [==============================] - 308s 3s/step - loss: 3.1040 - rpn_class_loss: 0.0537 - rpn_bbox_loss: 2.3141 - mrcnn_class_loss: 0.0750 - mrcnn_bbox_loss: 0.1957 - mrcnn_mask_loss: 0.4654 - val_loss: 1.0026 - val_rpn_class_loss: 0.0148 - val_rpn_bbox_loss: 0.3927 - val_mrcnn_class_loss: 0.0296 - val_mrcnn_bbox_loss: 0.0419 - val_mrcnn_mask_loss: 0.5235\n",
            "Epoch 2/30\n",
            "110/110 [==============================] - 147s 1s/step - loss: 0.8368 - rpn_class_loss: 0.0198 - rpn_bbox_loss: 0.2337 - mrcnn_class_loss: 0.0196 - mrcnn_bbox_loss: 0.0562 - mrcnn_mask_loss: 0.5075 - val_loss: 0.6644 - val_rpn_class_loss: 0.0063 - val_rpn_bbox_loss: 0.1055 - val_mrcnn_class_loss: 0.0154 - val_mrcnn_bbox_loss: 0.0144 - val_mrcnn_mask_loss: 0.5227\n",
            "Epoch 3/30\n",
            "110/110 [==============================] - 151s 1s/step - loss: 0.7114 - rpn_class_loss: 0.0134 - rpn_bbox_loss: 0.1418 - mrcnn_class_loss: 0.0145 - mrcnn_bbox_loss: 0.0430 - mrcnn_mask_loss: 0.4987 - val_loss: 0.6599 - val_rpn_class_loss: 0.0133 - val_rpn_bbox_loss: 0.1263 - val_mrcnn_class_loss: 0.0125 - val_mrcnn_bbox_loss: 0.0135 - val_mrcnn_mask_loss: 0.4944\n",
            "Epoch 4/30\n",
            "110/110 [==============================] - 151s 1s/step - loss: 0.6623 - rpn_class_loss: 0.0118 - rpn_bbox_loss: 0.1182 - mrcnn_class_loss: 0.0123 - mrcnn_bbox_loss: 0.0357 - mrcnn_mask_loss: 0.4842 - val_loss: 0.6687 - val_rpn_class_loss: 0.0035 - val_rpn_bbox_loss: 0.1459 - val_mrcnn_class_loss: 0.0095 - val_mrcnn_bbox_loss: 0.0262 - val_mrcnn_mask_loss: 0.4836\n",
            "Epoch 5/30\n",
            "110/110 [==============================] - 151s 1s/step - loss: 0.6555 - rpn_class_loss: 0.0096 - rpn_bbox_loss: 0.1233 - mrcnn_class_loss: 0.0131 - mrcnn_bbox_loss: 0.0329 - mrcnn_mask_loss: 0.4765 - val_loss: 0.5775 - val_rpn_class_loss: 0.0162 - val_rpn_bbox_loss: 0.0802 - val_mrcnn_class_loss: 0.0061 - val_mrcnn_bbox_loss: 0.0168 - val_mrcnn_mask_loss: 0.4582\n",
            "Epoch 6/30\n",
            "110/110 [==============================] - 151s 1s/step - loss: 0.6594 - rpn_class_loss: 0.0087 - rpn_bbox_loss: 0.1311 - mrcnn_class_loss: 0.0143 - mrcnn_bbox_loss: 0.0374 - mrcnn_mask_loss: 0.4679 - val_loss: 0.5248 - val_rpn_class_loss: 0.0054 - val_rpn_bbox_loss: 0.0407 - val_mrcnn_class_loss: 0.0044 - val_mrcnn_bbox_loss: 0.0053 - val_mrcnn_mask_loss: 0.4690\n",
            "Epoch 7/30\n",
            "110/110 [==============================] - 151s 1s/step - loss: 0.6412 - rpn_class_loss: 0.0074 - rpn_bbox_loss: 0.1357 - mrcnn_class_loss: 0.0178 - mrcnn_bbox_loss: 0.0346 - mrcnn_mask_loss: 0.4456 - val_loss: 0.5222 - val_rpn_class_loss: 0.0042 - val_rpn_bbox_loss: 0.0540 - val_mrcnn_class_loss: 0.0115 - val_mrcnn_bbox_loss: 0.0081 - val_mrcnn_mask_loss: 0.4445\n",
            "Epoch 8/30\n",
            "110/110 [==============================] - 152s 1s/step - loss: 0.6070 - rpn_class_loss: 0.0066 - rpn_bbox_loss: 0.1341 - mrcnn_class_loss: 0.0175 - mrcnn_bbox_loss: 0.0331 - mrcnn_mask_loss: 0.4157 - val_loss: 0.5709 - val_rpn_class_loss: 0.0013 - val_rpn_bbox_loss: 0.0720 - val_mrcnn_class_loss: 0.0095 - val_mrcnn_bbox_loss: 0.0050 - val_mrcnn_mask_loss: 0.4831\n",
            "Epoch 9/30\n",
            "110/110 [==============================] - 152s 1s/step - loss: 0.5874 - rpn_class_loss: 0.0075 - rpn_bbox_loss: 0.1195 - mrcnn_class_loss: 0.0313 - mrcnn_bbox_loss: 0.0357 - mrcnn_mask_loss: 0.3934 - val_loss: 0.4995 - val_rpn_class_loss: 0.0118 - val_rpn_bbox_loss: 0.0569 - val_mrcnn_class_loss: 0.0180 - val_mrcnn_bbox_loss: 0.0089 - val_mrcnn_mask_loss: 0.4039\n",
            "Epoch 10/30\n",
            "110/110 [==============================] - 152s 1s/step - loss: 0.5741 - rpn_class_loss: 0.0064 - rpn_bbox_loss: 0.1235 - mrcnn_class_loss: 0.0323 - mrcnn_bbox_loss: 0.0316 - mrcnn_mask_loss: 0.3802 - val_loss: 0.5546 - val_rpn_class_loss: 0.0148 - val_rpn_bbox_loss: 0.0718 - val_mrcnn_class_loss: 0.0149 - val_mrcnn_bbox_loss: 0.0176 - val_mrcnn_mask_loss: 0.4356\n",
            "Epoch 11/30\n",
            "110/110 [==============================] - 153s 1s/step - loss: 0.5353 - rpn_class_loss: 0.0080 - rpn_bbox_loss: 0.1178 - mrcnn_class_loss: 0.0279 - mrcnn_bbox_loss: 0.0292 - mrcnn_mask_loss: 0.3523 - val_loss: 0.4434 - val_rpn_class_loss: 0.0017 - val_rpn_bbox_loss: 0.0671 - val_mrcnn_class_loss: 0.0136 - val_mrcnn_bbox_loss: 0.0127 - val_mrcnn_mask_loss: 0.3483\n",
            "Epoch 12/30\n",
            "110/110 [==============================] - 153s 1s/step - loss: 0.5352 - rpn_class_loss: 0.0054 - rpn_bbox_loss: 0.1312 - mrcnn_class_loss: 0.0250 - mrcnn_bbox_loss: 0.0313 - mrcnn_mask_loss: 0.3423 - val_loss: 0.4470 - val_rpn_class_loss: 0.0158 - val_rpn_bbox_loss: 0.0445 - val_mrcnn_class_loss: 0.0204 - val_mrcnn_bbox_loss: 0.0115 - val_mrcnn_mask_loss: 0.3548\n",
            "Epoch 13/30\n",
            "110/110 [==============================] - 152s 1s/step - loss: 0.5004 - rpn_class_loss: 0.0057 - rpn_bbox_loss: 0.1114 - mrcnn_class_loss: 0.0184 - mrcnn_bbox_loss: 0.0271 - mrcnn_mask_loss: 0.3378 - val_loss: 0.4364 - val_rpn_class_loss: 0.0030 - val_rpn_bbox_loss: 0.0721 - val_mrcnn_class_loss: 0.0168 - val_mrcnn_bbox_loss: 0.0120 - val_mrcnn_mask_loss: 0.3326\n",
            "Epoch 14/30\n",
            "110/110 [==============================] - 152s 1s/step - loss: 0.4806 - rpn_class_loss: 0.0052 - rpn_bbox_loss: 0.1081 - mrcnn_class_loss: 0.0191 - mrcnn_bbox_loss: 0.0286 - mrcnn_mask_loss: 0.3196 - val_loss: 0.4960 - val_rpn_class_loss: 0.0081 - val_rpn_bbox_loss: 0.1248 - val_mrcnn_class_loss: 0.0168 - val_mrcnn_bbox_loss: 0.0104 - val_mrcnn_mask_loss: 0.3360\n",
            "Epoch 15/30\n",
            "110/110 [==============================] - 153s 1s/step - loss: 0.5190 - rpn_class_loss: 0.0048 - rpn_bbox_loss: 0.1362 - mrcnn_class_loss: 0.0213 - mrcnn_bbox_loss: 0.0314 - mrcnn_mask_loss: 0.3253 - val_loss: 0.4148 - val_rpn_class_loss: 8.4752e-04 - val_rpn_bbox_loss: 0.0769 - val_mrcnn_class_loss: 0.0077 - val_mrcnn_bbox_loss: 0.0142 - val_mrcnn_mask_loss: 0.3151\n",
            "Epoch 16/30\n",
            "110/110 [==============================] - 155s 1s/step - loss: 0.4344 - rpn_class_loss: 0.0050 - rpn_bbox_loss: 0.0942 - mrcnn_class_loss: 0.0125 - mrcnn_bbox_loss: 0.0231 - mrcnn_mask_loss: 0.2996 - val_loss: 0.4165 - val_rpn_class_loss: 0.0028 - val_rpn_bbox_loss: 0.0722 - val_mrcnn_class_loss: 0.0054 - val_mrcnn_bbox_loss: 0.0177 - val_mrcnn_mask_loss: 0.3184\n",
            "Epoch 17/30\n",
            "110/110 [==============================] - 155s 1s/step - loss: 0.4420 - rpn_class_loss: 0.0045 - rpn_bbox_loss: 0.1011 - mrcnn_class_loss: 0.0148 - mrcnn_bbox_loss: 0.0244 - mrcnn_mask_loss: 0.2972 - val_loss: 0.4113 - val_rpn_class_loss: 0.0038 - val_rpn_bbox_loss: 0.0503 - val_mrcnn_class_loss: 0.0059 - val_mrcnn_bbox_loss: 0.0029 - val_mrcnn_mask_loss: 0.3484\n",
            "Epoch 18/30\n",
            "110/110 [==============================] - 155s 1s/step - loss: 0.4795 - rpn_class_loss: 0.0047 - rpn_bbox_loss: 0.1345 - mrcnn_class_loss: 0.0139 - mrcnn_bbox_loss: 0.0304 - mrcnn_mask_loss: 0.2960 - val_loss: 0.3285 - val_rpn_class_loss: 0.0035 - val_rpn_bbox_loss: 0.0280 - val_mrcnn_class_loss: 0.0082 - val_mrcnn_bbox_loss: 0.0074 - val_mrcnn_mask_loss: 0.2813\n",
            "Epoch 19/30\n",
            "110/110 [==============================] - 154s 1s/step - loss: 0.4293 - rpn_class_loss: 0.0051 - rpn_bbox_loss: 0.0980 - mrcnn_class_loss: 0.0135 - mrcnn_bbox_loss: 0.0273 - mrcnn_mask_loss: 0.2854 - val_loss: 0.3704 - val_rpn_class_loss: 0.0012 - val_rpn_bbox_loss: 0.0597 - val_mrcnn_class_loss: 0.0054 - val_mrcnn_bbox_loss: 0.0091 - val_mrcnn_mask_loss: 0.2950\n",
            "Epoch 20/30\n",
            "110/110 [==============================] - 155s 1s/step - loss: 0.4164 - rpn_class_loss: 0.0040 - rpn_bbox_loss: 0.0938 - mrcnn_class_loss: 0.0108 - mrcnn_bbox_loss: 0.0240 - mrcnn_mask_loss: 0.2838 - val_loss: 0.3509 - val_rpn_class_loss: 0.0081 - val_rpn_bbox_loss: 0.0447 - val_mrcnn_class_loss: 0.0087 - val_mrcnn_bbox_loss: 0.0052 - val_mrcnn_mask_loss: 0.2842\n",
            "Epoch 21/30\n",
            "110/110 [==============================] - 155s 1s/step - loss: 0.4108 - rpn_class_loss: 0.0039 - rpn_bbox_loss: 0.0881 - mrcnn_class_loss: 0.0145 - mrcnn_bbox_loss: 0.0237 - mrcnn_mask_loss: 0.2806 - val_loss: 0.3755 - val_rpn_class_loss: 0.0012 - val_rpn_bbox_loss: 0.0293 - val_mrcnn_class_loss: 0.0111 - val_mrcnn_bbox_loss: 0.0060 - val_mrcnn_mask_loss: 0.3280\n",
            "Epoch 22/30\n",
            "110/110 [==============================] - 155s 1s/step - loss: 0.4210 - rpn_class_loss: 0.0026 - rpn_bbox_loss: 0.1081 - mrcnn_class_loss: 0.0157 - mrcnn_bbox_loss: 0.0298 - mrcnn_mask_loss: 0.2647 - val_loss: 0.3231 - val_rpn_class_loss: 0.0012 - val_rpn_bbox_loss: 0.0267 - val_mrcnn_class_loss: 0.0057 - val_mrcnn_bbox_loss: 0.0045 - val_mrcnn_mask_loss: 0.2849\n",
            "Epoch 23/30\n",
            "110/110 [==============================] - 155s 1s/step - loss: 0.4128 - rpn_class_loss: 0.0038 - rpn_bbox_loss: 0.0935 - mrcnn_class_loss: 0.0143 - mrcnn_bbox_loss: 0.0280 - mrcnn_mask_loss: 0.2732 - val_loss: 0.3740 - val_rpn_class_loss: 0.0049 - val_rpn_bbox_loss: 0.0506 - val_mrcnn_class_loss: 0.0053 - val_mrcnn_bbox_loss: 0.0060 - val_mrcnn_mask_loss: 0.3071\n",
            "Epoch 24/30\n",
            "110/110 [==============================] - 154s 1s/step - loss: 0.4063 - rpn_class_loss: 0.0029 - rpn_bbox_loss: 0.1039 - mrcnn_class_loss: 0.0115 - mrcnn_bbox_loss: 0.0266 - mrcnn_mask_loss: 0.2615 - val_loss: 0.3593 - val_rpn_class_loss: 0.0038 - val_rpn_bbox_loss: 0.0344 - val_mrcnn_class_loss: 0.0038 - val_mrcnn_bbox_loss: 0.0115 - val_mrcnn_mask_loss: 0.3058\n",
            "Epoch 25/30\n",
            "110/110 [==============================] - 154s 1s/step - loss: 0.3947 - rpn_class_loss: 0.0032 - rpn_bbox_loss: 0.0936 - mrcnn_class_loss: 0.0091 - mrcnn_bbox_loss: 0.0256 - mrcnn_mask_loss: 0.2632 - val_loss: 0.3273 - val_rpn_class_loss: 0.0019 - val_rpn_bbox_loss: 0.0329 - val_mrcnn_class_loss: 0.0030 - val_mrcnn_bbox_loss: 0.0079 - val_mrcnn_mask_loss: 0.2815\n",
            "Epoch 26/30\n",
            "110/110 [==============================] - 154s 1s/step - loss: 0.3907 - rpn_class_loss: 0.0034 - rpn_bbox_loss: 0.0939 - mrcnn_class_loss: 0.0108 - mrcnn_bbox_loss: 0.0266 - mrcnn_mask_loss: 0.2561 - val_loss: 0.3623 - val_rpn_class_loss: 0.0107 - val_rpn_bbox_loss: 0.0692 - val_mrcnn_class_loss: 0.0056 - val_mrcnn_bbox_loss: 0.0105 - val_mrcnn_mask_loss: 0.2663\n",
            "Epoch 27/30\n",
            "110/110 [==============================] - 154s 1s/step - loss: 0.3829 - rpn_class_loss: 0.0028 - rpn_bbox_loss: 0.0941 - mrcnn_class_loss: 0.0082 - mrcnn_bbox_loss: 0.0210 - mrcnn_mask_loss: 0.2569 - val_loss: 0.2929 - val_rpn_class_loss: 0.0024 - val_rpn_bbox_loss: 0.0188 - val_mrcnn_class_loss: 0.0026 - val_mrcnn_bbox_loss: 0.0070 - val_mrcnn_mask_loss: 0.2621\n",
            "Epoch 28/30\n",
            "110/110 [==============================] - 154s 1s/step - loss: 0.3916 - rpn_class_loss: 0.0025 - rpn_bbox_loss: 0.1040 - mrcnn_class_loss: 0.0079 - mrcnn_bbox_loss: 0.0285 - mrcnn_mask_loss: 0.2487 - val_loss: 0.3032 - val_rpn_class_loss: 0.0071 - val_rpn_bbox_loss: 0.0263 - val_mrcnn_class_loss: 0.0013 - val_mrcnn_bbox_loss: 0.0037 - val_mrcnn_mask_loss: 0.2648\n",
            "Epoch 29/30\n",
            "110/110 [==============================] - 154s 1s/step - loss: 0.3734 - rpn_class_loss: 0.0036 - rpn_bbox_loss: 0.0828 - mrcnn_class_loss: 0.0076 - mrcnn_bbox_loss: 0.0236 - mrcnn_mask_loss: 0.2559 - val_loss: 0.3516 - val_rpn_class_loss: 0.0016 - val_rpn_bbox_loss: 0.0605 - val_mrcnn_class_loss: 0.0078 - val_mrcnn_bbox_loss: 0.0035 - val_mrcnn_mask_loss: 0.2782\n",
            "Epoch 30/30\n",
            "110/110 [==============================] - 155s 1s/step - loss: 0.3948 - rpn_class_loss: 0.0027 - rpn_bbox_loss: 0.1101 - mrcnn_class_loss: 0.0091 - mrcnn_bbox_loss: 0.0241 - mrcnn_mask_loss: 0.2490 - val_loss: 0.3006 - val_rpn_class_loss: 0.0024 - val_rpn_bbox_loss: 0.0427 - val_mrcnn_class_loss: 0.0017 - val_mrcnn_bbox_loss: 0.0066 - val_mrcnn_mask_loss: 0.2473\n"
          ]
        }
      ],
      "source": [
        "epoch, loss, val_loss = train(model)"
      ]
    },
    {
      "cell_type": "code",
      "source": [
        "loss_visualize(epoch, loss, val_loss)"
      ],
      "metadata": {
        "colab": {
          "base_uri": "https://localhost:8080/",
          "height": 299
        },
        "id": "1T2f0uwsBhAc",
        "outputId": "614af969-113e-468c-9f5d-7f2d13646e68"
      },
      "execution_count": null,
      "outputs": [
        {
          "output_type": "display_data",
          "data": {
            "text/plain": [
              "<Figure size 432x288 with 1 Axes>"
            ],
            "image/png": "[encoded data removed]"
          },
          "metadata": {}
        }
      ]
    },
    {
      "cell_type": "code",
      "execution_count": null,
      "metadata": {
        "colab": {
          "base_uri": "https://localhost:8080/"
        },
        "id": "GpkVwi-mJTyM",
        "outputId": "7a933aeb-db54-4c3d-bc0e-e9d46b8f55c8"
      },
      "outputs": [
        {
          "name": "stdout",
          "output_type": "stream",
          "text": [
            "Train all layers\n",
            "\n",
            "Starting at epoch 0. LR=0.001\n",
            "\n",
            "Checkpoint Path: /content/drive/MyDrive/logs/nucleus20220611T1422/mask_rcnn_nucleus_{epoch:04d}.h5\n",
            "Selecting layers to train\n",
            "conv1                  (Conv2D)\n",
            "bn_conv1               (BatchNorm)\n",
            "res2a_branch2a         (Conv2D)\n",
            "bn2a_branch2a          (BatchNorm)\n",
            "res2a_branch2b         (Conv2D)\n",
            "bn2a_branch2b          (BatchNorm)\n",
            "res2a_branch2c         (Conv2D)\n",
            "res2a_branch1          (Conv2D)\n",
            "bn2a_branch2c          (BatchNorm)\n",
            "bn2a_branch1           (BatchNorm)\n",
            "res2b_branch2a         (Conv2D)\n",
            "bn2b_branch2a          (BatchNorm)\n",
            "res2b_branch2b         (Conv2D)\n",
            "bn2b_branch2b          (BatchNorm)\n",
            "res2b_branch2c         (Conv2D)\n",
            "bn2b_branch2c          (BatchNorm)\n",
            "res2c_branch2a         (Conv2D)\n",
            "bn2c_branch2a          (BatchNorm)\n",
            "res2c_branch2b         (Conv2D)\n",
            "bn2c_branch2b          (BatchNorm)\n",
            "res2c_branch2c         (Conv2D)\n",
            "bn2c_branch2c          (BatchNorm)\n",
            "res3a_branch2a         (Conv2D)\n",
            "bn3a_branch2a          (BatchNorm)\n",
            "res3a_branch2b         (Conv2D)\n",
            "bn3a_branch2b          (BatchNorm)\n",
            "res3a_branch2c         (Conv2D)\n",
            "res3a_branch1          (Conv2D)\n",
            "bn3a_branch2c          (BatchNorm)\n",
            "bn3a_branch1           (BatchNorm)\n",
            "res3b_branch2a         (Conv2D)\n",
            "bn3b_branch2a          (BatchNorm)\n",
            "res3b_branch2b         (Conv2D)\n",
            "bn3b_branch2b          (BatchNorm)\n",
            "res3b_branch2c         (Conv2D)\n",
            "bn3b_branch2c          (BatchNorm)\n",
            "res3c_branch2a         (Conv2D)\n",
            "bn3c_branch2a          (BatchNorm)\n",
            "res3c_branch2b         (Conv2D)\n",
            "bn3c_branch2b          (BatchNorm)\n",
            "res3c_branch2c         (Conv2D)\n",
            "bn3c_branch2c          (BatchNorm)\n",
            "res3d_branch2a         (Conv2D)\n",
            "bn3d_branch2a          (BatchNorm)\n",
            "res3d_branch2b         (Conv2D)\n",
            "bn3d_branch2b          (BatchNorm)\n",
            "res3d_branch2c         (Conv2D)\n",
            "bn3d_branch2c          (BatchNorm)\n",
            "res4a_branch2a         (Conv2D)\n",
            "bn4a_branch2a          (BatchNorm)\n",
            "res4a_branch2b         (Conv2D)\n",
            "bn4a_branch2b          (BatchNorm)\n",
            "res4a_branch2c         (Conv2D)\n",
            "res4a_branch1          (Conv2D)\n",
            "bn4a_branch2c          (BatchNorm)\n",
            "bn4a_branch1           (BatchNorm)\n",
            "res4b_branch2a         (Conv2D)\n",
            "bn4b_branch2a          (BatchNorm)\n",
            "res4b_branch2b         (Conv2D)\n",
            "bn4b_branch2b          (BatchNorm)\n",
            "res4b_branch2c         (Conv2D)\n",
            "bn4b_branch2c          (BatchNorm)\n",
            "res4c_branch2a         (Conv2D)\n",
            "bn4c_branch2a          (BatchNorm)\n",
            "res4c_branch2b         (Conv2D)\n",
            "bn4c_branch2b          (BatchNorm)\n",
            "res4c_branch2c         (Conv2D)\n",
            "bn4c_branch2c          (BatchNorm)\n",
            "res4d_branch2a         (Conv2D)\n",
            "bn4d_branch2a          (BatchNorm)\n",
            "res4d_branch2b         (Conv2D)\n",
            "bn4d_branch2b          (BatchNorm)\n",
            "res4d_branch2c         (Conv2D)\n",
            "bn4d_branch2c          (BatchNorm)\n",
            "res4e_branch2a         (Conv2D)\n",
            "bn4e_branch2a          (BatchNorm)\n",
            "res4e_branch2b         (Conv2D)\n",
            "bn4e_branch2b          (BatchNorm)\n",
            "res4e_branch2c         (Conv2D)\n",
            "bn4e_branch2c          (BatchNorm)\n",
            "res4f_branch2a         (Conv2D)\n",
            "bn4f_branch2a          (BatchNorm)\n",
            "res4f_branch2b         (Conv2D)\n",
            "bn4f_branch2b          (BatchNorm)\n",
            "res4f_branch2c         (Conv2D)\n",
            "bn4f_branch2c          (BatchNorm)\n",
            "res5a_branch2a         (Conv2D)\n",
            "bn5a_branch2a          (BatchNorm)\n",
            "res5a_branch2b         (Conv2D)\n",
            "bn5a_branch2b          (BatchNorm)\n",
            "res5a_branch2c         (Conv2D)\n",
            "res5a_branch1          (Conv2D)\n",
            "bn5a_branch2c          (BatchNorm)\n",
            "bn5a_branch1           (BatchNorm)\n",
            "res5b_branch2a         (Conv2D)\n",
            "bn5b_branch2a          (BatchNorm)\n",
            "res5b_branch2b         (Conv2D)\n",
            "bn5b_branch2b          (BatchNorm)\n",
            "res5b_branch2c         (Conv2D)\n",
            "bn5b_branch2c          (BatchNorm)\n",
            "res5c_branch2a         (Conv2D)\n",
            "bn5c_branch2a          (BatchNorm)\n",
            "res5c_branch2b         (Conv2D)\n",
            "bn5c_branch2b          (BatchNorm)\n",
            "res5c_branch2c         (Conv2D)\n",
            "bn5c_branch2c          (BatchNorm)\n",
            "fpn_c5p5               (Conv2D)\n",
            "fpn_c4p4               (Conv2D)\n",
            "fpn_c3p3               (Conv2D)\n",
            "fpn_c2p2               (Conv2D)\n",
            "fpn_p5                 (Conv2D)\n",
            "fpn_p2                 (Conv2D)\n",
            "fpn_p3                 (Conv2D)\n",
            "fpn_p4                 (Conv2D)\n",
            "In model:  rpn_model\n",
            "    rpn_conv_shared        (Conv2D)\n",
            "    rpn_class_raw          (Conv2D)\n",
            "    rpn_bbox_pred          (Conv2D)\n",
            "mrcnn_mask_conv1       (TimeDistributed)\n",
            "mrcnn_mask_bn1         (TimeDistributed)\n",
            "mrcnn_mask_conv2       (TimeDistributed)\n",
            "mrcnn_mask_bn2         (TimeDistributed)\n",
            "mrcnn_class_conv1      (TimeDistributed)\n",
            "mrcnn_class_bn1        (TimeDistributed)\n",
            "mrcnn_mask_conv3       (TimeDistributed)\n",
            "mrcnn_mask_bn3         (TimeDistributed)\n",
            "mrcnn_class_conv2      (TimeDistributed)\n",
            "mrcnn_class_bn2        (TimeDistributed)\n",
            "mrcnn_mask_conv4       (TimeDistributed)\n",
            "mrcnn_mask_bn4         (TimeDistributed)\n",
            "mrcnn_bbox_fc          (TimeDistributed)\n",
            "mrcnn_mask_deconv      (TimeDistributed)\n",
            "mrcnn_class_logits     (TimeDistributed)\n",
            "mrcnn_mask             (TimeDistributed)\n"
          ]
        },
        {
          "name": "stderr",
          "output_type": "stream",
          "text": [
            "/tensorflow-1.15.2/python3.7/tensorflow_core/python/framework/indexed_slices.py:424: UserWarning: Converting sparse IndexedSlices to a dense Tensor of unknown shape. This may consume a large amount of memory.\n",
            "  \"Converting sparse IndexedSlices to a dense Tensor of unknown shape. \"\n",
            "/tensorflow-1.15.2/python3.7/tensorflow_core/python/framework/indexed_slices.py:424: UserWarning: Converting sparse IndexedSlices to a dense Tensor of unknown shape. This may consume a large amount of memory.\n",
            "  \"Converting sparse IndexedSlices to a dense Tensor of unknown shape. \"\n",
            "/tensorflow-1.15.2/python3.7/tensorflow_core/python/framework/indexed_slices.py:424: UserWarning: Converting sparse IndexedSlices to a dense Tensor of unknown shape. This may consume a large amount of memory.\n",
            "  \"Converting sparse IndexedSlices to a dense Tensor of unknown shape. \"\n",
            "/usr/local/lib/python3.7/dist-packages/keras/engine/training.py:2039: UserWarning: Using a generator with `use_multiprocessing=True` and multiple workers may duplicate your data. Please consider using the`keras.utils.Sequence class.\n",
            "  UserWarning('Using a generator with `use_multiprocessing=True`'\n"
          ]
        },
        {
          "name": "stdout",
          "output_type": "stream",
          "text": [
            "Epoch 1/50\n",
            "109/110 [============================>.] - ETA: 2s - loss: 0.3102 - rpn_class_loss: 0.0015 - rpn_bbox_loss: 0.0699 - mrcnn_class_loss: 0.0018 - mrcnn_bbox_loss: 0.0168 - mrcnn_mask_loss: 0.2202"
          ]
        },
        {
          "name": "stderr",
          "output_type": "stream",
          "text": [
            "/usr/local/lib/python3.7/dist-packages/keras/engine/training.py:2197: UserWarning: Using a generator with `use_multiprocessing=True` and multiple workers may duplicate your data. Please consider using the`keras.utils.Sequence class.\n",
            "  UserWarning('Using a generator with `use_multiprocessing=True`'\n"
          ]
        },
        {
          "name": "stdout",
          "output_type": "stream",
          "text": [
            "110/110 [==============================] - 474s 4s/step - loss: 0.3102 - rpn_class_loss: 0.0015 - rpn_bbox_loss: 0.0698 - mrcnn_class_loss: 0.0018 - mrcnn_bbox_loss: 0.0167 - mrcnn_mask_loss: 0.2204 - val_loss: 0.2663 - val_rpn_class_loss: 0.0012 - val_rpn_bbox_loss: 0.0161 - val_mrcnn_class_loss: 1.9981e-04 - val_mrcnn_bbox_loss: 0.0021 - val_mrcnn_mask_loss: 0.2466\n",
            "Epoch 2/50\n",
            "110/110 [==============================] - 152s 1s/step - loss: 0.3454 - rpn_class_loss: 0.0013 - rpn_bbox_loss: 0.0939 - mrcnn_class_loss: 0.0021 - mrcnn_bbox_loss: 0.0223 - mrcnn_mask_loss: 0.2258 - val_loss: 0.3099 - val_rpn_class_loss: 0.0013 - val_rpn_bbox_loss: 0.0820 - val_mrcnn_class_loss: 0.0038 - val_mrcnn_bbox_loss: 0.0066 - val_mrcnn_mask_loss: 0.2161\n",
            "Epoch 3/50\n",
            "110/110 [==============================] - 151s 1s/step - loss: 0.3335 - rpn_class_loss: 0.0017 - rpn_bbox_loss: 0.0856 - mrcnn_class_loss: 0.0017 - mrcnn_bbox_loss: 0.0216 - mrcnn_mask_loss: 0.2230 - val_loss: 0.2460 - val_rpn_class_loss: 7.2701e-04 - val_rpn_bbox_loss: 0.0203 - val_mrcnn_class_loss: 3.1646e-04 - val_mrcnn_bbox_loss: 0.0038 - val_mrcnn_mask_loss: 0.2208\n",
            "Epoch 4/50\n",
            "110/110 [==============================] - 152s 1s/step - loss: 0.3192 - rpn_class_loss: 0.0018 - rpn_bbox_loss: 0.0747 - mrcnn_class_loss: 0.0020 - mrcnn_bbox_loss: 0.0167 - mrcnn_mask_loss: 0.2239 - val_loss: 0.2776 - val_rpn_class_loss: 0.0047 - val_rpn_bbox_loss: 0.0199 - val_mrcnn_class_loss: 2.4524e-04 - val_mrcnn_bbox_loss: 0.0026 - val_mrcnn_mask_loss: 0.2503\n",
            "Epoch 5/50\n",
            "110/110 [==============================] - 153s 1s/step - loss: 0.3236 - rpn_class_loss: 0.0011 - rpn_bbox_loss: 0.0823 - mrcnn_class_loss: 0.0016 - mrcnn_bbox_loss: 0.0170 - mrcnn_mask_loss: 0.2216 - val_loss: 0.2340 - val_rpn_class_loss: 0.0011 - val_rpn_bbox_loss: 0.0166 - val_mrcnn_class_loss: 4.7994e-04 - val_mrcnn_bbox_loss: 0.0025 - val_mrcnn_mask_loss: 0.2134\n",
            "Epoch 6/50\n",
            "110/110 [==============================] - 152s 1s/step - loss: 0.3372 - rpn_class_loss: 0.0010 - rpn_bbox_loss: 0.0940 - mrcnn_class_loss: 0.0019 - mrcnn_bbox_loss: 0.0196 - mrcnn_mask_loss: 0.2207 - val_loss: 0.2593 - val_rpn_class_loss: 9.2679e-04 - val_rpn_bbox_loss: 0.0352 - val_mrcnn_class_loss: 1.2729e-04 - val_mrcnn_bbox_loss: 0.0018 - val_mrcnn_mask_loss: 0.2212\n",
            "Epoch 7/50\n",
            "110/110 [==============================] - 152s 1s/step - loss: 0.3177 - rpn_class_loss: 0.0014 - rpn_bbox_loss: 0.0752 - mrcnn_class_loss: 0.0013 - mrcnn_bbox_loss: 0.0163 - mrcnn_mask_loss: 0.2235 - val_loss: 0.2462 - val_rpn_class_loss: 0.0033 - val_rpn_bbox_loss: 0.0137 - val_mrcnn_class_loss: 2.1954e-04 - val_mrcnn_bbox_loss: 0.0025 - val_mrcnn_mask_loss: 0.2264\n",
            "Epoch 8/50\n",
            "110/110 [==============================] - 152s 1s/step - loss: 0.3220 - rpn_class_loss: 0.0014 - rpn_bbox_loss: 0.0826 - mrcnn_class_loss: 0.0018 - mrcnn_bbox_loss: 0.0179 - mrcnn_mask_loss: 0.2183 - val_loss: 0.2314 - val_rpn_class_loss: 5.1205e-04 - val_rpn_bbox_loss: 0.0151 - val_mrcnn_class_loss: 1.6318e-04 - val_mrcnn_bbox_loss: 0.0018 - val_mrcnn_mask_loss: 0.2138\n",
            "Epoch 9/50\n",
            "110/110 [==============================] - 151s 1s/step - loss: 0.3190 - rpn_class_loss: 0.0012 - rpn_bbox_loss: 0.0811 - mrcnn_class_loss: 0.0016 - mrcnn_bbox_loss: 0.0178 - mrcnn_mask_loss: 0.2173 - val_loss: 0.2728 - val_rpn_class_loss: 4.2320e-04 - val_rpn_bbox_loss: 0.0204 - val_mrcnn_class_loss: 6.2477e-04 - val_mrcnn_bbox_loss: 0.0044 - val_mrcnn_mask_loss: 0.2469\n",
            "Epoch 10/50\n",
            "110/110 [==============================] - 151s 1s/step - loss: 0.3125 - rpn_class_loss: 0.0018 - rpn_bbox_loss: 0.0722 - mrcnn_class_loss: 0.0017 - mrcnn_bbox_loss: 0.0151 - mrcnn_mask_loss: 0.2215 - val_loss: 0.2596 - val_rpn_class_loss: 8.6918e-04 - val_rpn_bbox_loss: 0.0243 - val_mrcnn_class_loss: 1.8539e-04 - val_mrcnn_bbox_loss: 0.0043 - val_mrcnn_mask_loss: 0.2298\n",
            "Epoch 11/50\n",
            "110/110 [==============================] - 151s 1s/step - loss: 0.3213 - rpn_class_loss: 0.0012 - rpn_bbox_loss: 0.0779 - mrcnn_class_loss: 0.0013 - mrcnn_bbox_loss: 0.0174 - mrcnn_mask_loss: 0.2234 - val_loss: 0.2956 - val_rpn_class_loss: 9.5430e-04 - val_rpn_bbox_loss: 0.0823 - val_mrcnn_class_loss: 3.9966e-04 - val_mrcnn_bbox_loss: 0.0037 - val_mrcnn_mask_loss: 0.2082\n",
            "Epoch 12/50\n",
            "110/110 [==============================] - 151s 1s/step - loss: 0.3129 - rpn_class_loss: 0.0015 - rpn_bbox_loss: 0.0786 - mrcnn_class_loss: 0.0011 - mrcnn_bbox_loss: 0.0146 - mrcnn_mask_loss: 0.2170 - val_loss: 0.2219 - val_rpn_class_loss: 4.3771e-04 - val_rpn_bbox_loss: 0.0112 - val_mrcnn_class_loss: 1.5258e-04 - val_mrcnn_bbox_loss: 0.0017 - val_mrcnn_mask_loss: 0.2085\n",
            "Epoch 13/50\n",
            "110/110 [==============================] - 151s 1s/step - loss: 0.3048 - rpn_class_loss: 9.8726e-04 - rpn_bbox_loss: 0.0690 - mrcnn_class_loss: 0.0012 - mrcnn_bbox_loss: 0.0139 - mrcnn_mask_loss: 0.2197 - val_loss: 0.2310 - val_rpn_class_loss: 3.6798e-04 - val_rpn_bbox_loss: 0.0241 - val_mrcnn_class_loss: 3.2309e-04 - val_mrcnn_bbox_loss: 0.0045 - val_mrcnn_mask_loss: 0.2016\n",
            "Epoch 14/50\n",
            "110/110 [==============================] - 151s 1s/step - loss: 0.3364 - rpn_class_loss: 0.0016 - rpn_bbox_loss: 0.0969 - mrcnn_class_loss: 0.0015 - mrcnn_bbox_loss: 0.0198 - mrcnn_mask_loss: 0.2167 - val_loss: 0.2322 - val_rpn_class_loss: 0.0012 - val_rpn_bbox_loss: 0.0166 - val_mrcnn_class_loss: 3.9625e-04 - val_mrcnn_bbox_loss: 0.0033 - val_mrcnn_mask_loss: 0.2108\n",
            "Epoch 15/50\n",
            "110/110 [==============================] - 150s 1s/step - loss: 0.3390 - rpn_class_loss: 0.0014 - rpn_bbox_loss: 0.0953 - mrcnn_class_loss: 0.0025 - mrcnn_bbox_loss: 0.0255 - mrcnn_mask_loss: 0.2143 - val_loss: 0.2357 - val_rpn_class_loss: 0.0010 - val_rpn_bbox_loss: 0.0204 - val_mrcnn_class_loss: 0.0020 - val_mrcnn_bbox_loss: 0.0032 - val_mrcnn_mask_loss: 0.2091\n",
            "Epoch 16/50\n",
            "110/110 [==============================] - 150s 1s/step - loss: 0.3001 - rpn_class_loss: 9.0049e-04 - rpn_bbox_loss: 0.0720 - mrcnn_class_loss: 0.0023 - mrcnn_bbox_loss: 0.0161 - mrcnn_mask_loss: 0.2087 - val_loss: 0.2489 - val_rpn_class_loss: 0.0026 - val_rpn_bbox_loss: 0.0218 - val_mrcnn_class_loss: 7.7562e-04 - val_mrcnn_bbox_loss: 0.0042 - val_mrcnn_mask_loss: 0.2195\n",
            "Epoch 17/50\n",
            "110/110 [==============================] - 150s 1s/step - loss: 0.3363 - rpn_class_loss: 7.5107e-04 - rpn_bbox_loss: 0.0991 - mrcnn_class_loss: 0.0022 - mrcnn_bbox_loss: 0.0223 - mrcnn_mask_loss: 0.2120 - val_loss: 0.2779 - val_rpn_class_loss: 3.3947e-04 - val_rpn_bbox_loss: 0.0762 - val_mrcnn_class_loss: 6.6555e-04 - val_mrcnn_bbox_loss: 0.0047 - val_mrcnn_mask_loss: 0.1959\n",
            "Epoch 18/50\n",
            "110/110 [==============================] - 151s 1s/step - loss: 0.2838 - rpn_class_loss: 9.6342e-04 - rpn_bbox_loss: 0.0631 - mrcnn_class_loss: 9.7956e-04 - mrcnn_bbox_loss: 0.0133 - mrcnn_mask_loss: 0.2055 - val_loss: 0.2427 - val_rpn_class_loss: 4.5574e-04 - val_rpn_bbox_loss: 0.0324 - val_mrcnn_class_loss: 0.0025 - val_mrcnn_bbox_loss: 0.0056 - val_mrcnn_mask_loss: 0.2019\n",
            "Epoch 19/50\n",
            "110/110 [==============================] - 151s 1s/step - loss: 0.3000 - rpn_class_loss: 8.3515e-04 - rpn_bbox_loss: 0.0745 - mrcnn_class_loss: 7.9608e-04 - mrcnn_bbox_loss: 0.0163 - mrcnn_mask_loss: 0.2076 - val_loss: 0.2493 - val_rpn_class_loss: 3.9910e-04 - val_rpn_bbox_loss: 0.0202 - val_mrcnn_class_loss: 6.2341e-04 - val_mrcnn_bbox_loss: 0.0021 - val_mrcnn_mask_loss: 0.2260\n",
            "Epoch 20/50\n",
            "110/110 [==============================] - 150s 1s/step - loss: 0.3254 - rpn_class_loss: 0.0016 - rpn_bbox_loss: 0.0921 - mrcnn_class_loss: 0.0013 - mrcnn_bbox_loss: 0.0198 - mrcnn_mask_loss: 0.2105 - val_loss: 0.2995 - val_rpn_class_loss: 4.6788e-04 - val_rpn_bbox_loss: 0.0628 - val_mrcnn_class_loss: 1.1212e-04 - val_mrcnn_bbox_loss: 0.0058 - val_mrcnn_mask_loss: 0.2303\n",
            "Epoch 21/50\n",
            "110/110 [==============================] - 150s 1s/step - loss: 0.3071 - rpn_class_loss: 0.0012 - rpn_bbox_loss: 0.0800 - mrcnn_class_loss: 7.5592e-04 - mrcnn_bbox_loss: 0.0160 - mrcnn_mask_loss: 0.2092 - val_loss: 0.2441 - val_rpn_class_loss: 5.3046e-04 - val_rpn_bbox_loss: 0.0195 - val_mrcnn_class_loss: 1.1632e-04 - val_mrcnn_bbox_loss: 0.0033 - val_mrcnn_mask_loss: 0.2207\n",
            "Epoch 22/50\n",
            "110/110 [==============================] - 150s 1s/step - loss: 0.3018 - rpn_class_loss: 0.0010 - rpn_bbox_loss: 0.0690 - mrcnn_class_loss: 5.6598e-04 - mrcnn_bbox_loss: 0.0162 - mrcnn_mask_loss: 0.2150 - val_loss: 0.2555 - val_rpn_class_loss: 2.8534e-04 - val_rpn_bbox_loss: 0.0328 - val_mrcnn_class_loss: 1.8805e-04 - val_mrcnn_bbox_loss: 0.0019 - val_mrcnn_mask_loss: 0.2203\n",
            "Epoch 23/50\n",
            "110/110 [==============================] - 150s 1s/step - loss: 0.3108 - rpn_class_loss: 0.0011 - rpn_bbox_loss: 0.0853 - mrcnn_class_loss: 6.2174e-04 - mrcnn_bbox_loss: 0.0176 - mrcnn_mask_loss: 0.2062 - val_loss: 0.2550 - val_rpn_class_loss: 4.5732e-04 - val_rpn_bbox_loss: 0.0297 - val_mrcnn_class_loss: 1.2126e-04 - val_mrcnn_bbox_loss: 0.0036 - val_mrcnn_mask_loss: 0.2211\n",
            "Epoch 24/50\n",
            "110/110 [==============================] - 150s 1s/step - loss: 0.3020 - rpn_class_loss: 0.0011 - rpn_bbox_loss: 0.0803 - mrcnn_class_loss: 5.6545e-04 - mrcnn_bbox_loss: 0.0168 - mrcnn_mask_loss: 0.2032 - val_loss: 0.2481 - val_rpn_class_loss: 2.2219e-04 - val_rpn_bbox_loss: 0.0302 - val_mrcnn_class_loss: 9.3945e-05 - val_mrcnn_bbox_loss: 0.0058 - val_mrcnn_mask_loss: 0.2118\n",
            "Epoch 25/50\n",
            "110/110 [==============================] - 150s 1s/step - loss: 0.3094 - rpn_class_loss: 0.0012 - rpn_bbox_loss: 0.0797 - mrcnn_class_loss: 7.0390e-04 - mrcnn_bbox_loss: 0.0182 - mrcnn_mask_loss: 0.2097 - val_loss: 0.2405 - val_rpn_class_loss: 5.7102e-04 - val_rpn_bbox_loss: 0.0225 - val_mrcnn_class_loss: 2.1162e-04 - val_mrcnn_bbox_loss: 0.0020 - val_mrcnn_mask_loss: 0.2153\n",
            "Epoch 26/50\n",
            "110/110 [==============================] - 151s 1s/step - loss: 0.3062 - rpn_class_loss: 8.3012e-04 - rpn_bbox_loss: 0.0805 - mrcnn_class_loss: 5.4832e-04 - mrcnn_bbox_loss: 0.0177 - mrcnn_mask_loss: 0.2066 - val_loss: 0.2387 - val_rpn_class_loss: 4.4525e-04 - val_rpn_bbox_loss: 0.0265 - val_mrcnn_class_loss: 1.1014e-04 - val_mrcnn_bbox_loss: 0.0044 - val_mrcnn_mask_loss: 0.2072\n",
            "Epoch 27/50\n",
            "110/110 [==============================] - 150s 1s/step - loss: 0.2963 - rpn_class_loss: 0.0015 - rpn_bbox_loss: 0.0721 - mrcnn_class_loss: 3.0294e-04 - mrcnn_bbox_loss: 0.0176 - mrcnn_mask_loss: 0.2048 - val_loss: 0.2448 - val_rpn_class_loss: 3.5560e-04 - val_rpn_bbox_loss: 0.0160 - val_mrcnn_class_loss: 1.9319e-04 - val_mrcnn_bbox_loss: 0.0027 - val_mrcnn_mask_loss: 0.2255\n",
            "Epoch 28/50\n",
            "110/110 [==============================] - 150s 1s/step - loss: 0.2873 - rpn_class_loss: 8.9360e-04 - rpn_bbox_loss: 0.0710 - mrcnn_class_loss: 4.5512e-04 - mrcnn_bbox_loss: 0.0148 - mrcnn_mask_loss: 0.2001 - val_loss: 0.2252 - val_rpn_class_loss: 4.9907e-04 - val_rpn_bbox_loss: 0.0149 - val_mrcnn_class_loss: 2.0808e-04 - val_mrcnn_bbox_loss: 0.0018 - val_mrcnn_mask_loss: 0.2079\n",
            "Epoch 29/50\n",
            "110/110 [==============================] - 150s 1s/step - loss: 0.2852 - rpn_class_loss: 0.0014 - rpn_bbox_loss: 0.0675 - mrcnn_class_loss: 4.7116e-04 - mrcnn_bbox_loss: 0.0122 - mrcnn_mask_loss: 0.2037 - val_loss: 0.2399 - val_rpn_class_loss: 3.9907e-04 - val_rpn_bbox_loss: 0.0226 - val_mrcnn_class_loss: 2.7668e-05 - val_mrcnn_bbox_loss: 0.0044 - val_mrcnn_mask_loss: 0.2124\n",
            "Epoch 30/50\n",
            "110/110 [==============================] - 150s 1s/step - loss: 0.3064 - rpn_class_loss: 0.0010 - rpn_bbox_loss: 0.0874 - mrcnn_class_loss: 7.0409e-04 - mrcnn_bbox_loss: 0.0179 - mrcnn_mask_loss: 0.1994 - val_loss: 0.2230 - val_rpn_class_loss: 4.5304e-04 - val_rpn_bbox_loss: 0.0189 - val_mrcnn_class_loss: 7.8202e-05 - val_mrcnn_bbox_loss: 0.0022 - val_mrcnn_mask_loss: 0.2013\n",
            "Epoch 31/50\n",
            "110/110 [==============================] - 150s 1s/step - loss: 0.2906 - rpn_class_loss: 0.0011 - rpn_bbox_loss: 0.0704 - mrcnn_class_loss: 6.1266e-04 - mrcnn_bbox_loss: 0.0143 - mrcnn_mask_loss: 0.2042 - val_loss: 0.2057 - val_rpn_class_loss: 0.0011 - val_rpn_bbox_loss: 0.0267 - val_mrcnn_class_loss: 1.1880e-04 - val_mrcnn_bbox_loss: 0.0032 - val_mrcnn_mask_loss: 0.1745\n",
            "Epoch 32/50\n",
            "110/110 [==============================] - 150s 1s/step - loss: 0.2932 - rpn_class_loss: 0.0010 - rpn_bbox_loss: 0.0728 - mrcnn_class_loss: 4.0256e-04 - mrcnn_bbox_loss: 0.0159 - mrcnn_mask_loss: 0.2031 - val_loss: 0.2467 - val_rpn_class_loss: 2.7053e-04 - val_rpn_bbox_loss: 0.0297 - val_mrcnn_class_loss: 2.6986e-04 - val_mrcnn_bbox_loss: 0.0029 - val_mrcnn_mask_loss: 0.2135\n",
            "Epoch 33/50\n",
            "110/110 [==============================] - 150s 1s/step - loss: 0.2831 - rpn_class_loss: 5.9173e-04 - rpn_bbox_loss: 0.0712 - mrcnn_class_loss: 3.6537e-04 - mrcnn_bbox_loss: 0.0133 - mrcnn_mask_loss: 0.1976 - val_loss: 0.2420 - val_rpn_class_loss: 0.0078 - val_rpn_bbox_loss: 0.0196 - val_mrcnn_class_loss: 5.5043e-05 - val_mrcnn_bbox_loss: 0.0021 - val_mrcnn_mask_loss: 0.2124\n",
            "Epoch 34/50\n",
            "110/110 [==============================] - 150s 1s/step - loss: 0.3040 - rpn_class_loss: 0.0017 - rpn_bbox_loss: 0.0800 - mrcnn_class_loss: 8.7260e-04 - mrcnn_bbox_loss: 0.0185 - mrcnn_mask_loss: 0.2030 - val_loss: 0.2379 - val_rpn_class_loss: 6.5242e-04 - val_rpn_bbox_loss: 0.0269 - val_mrcnn_class_loss: 0.0011 - val_mrcnn_bbox_loss: 0.0048 - val_mrcnn_mask_loss: 0.2045\n",
            "Epoch 35/50\n",
            "110/110 [==============================] - 151s 1s/step - loss: 0.2931 - rpn_class_loss: 0.0014 - rpn_bbox_loss: 0.0784 - mrcnn_class_loss: 3.7838e-04 - mrcnn_bbox_loss: 0.0155 - mrcnn_mask_loss: 0.1973 - val_loss: 0.2442 - val_rpn_class_loss: 3.9071e-04 - val_rpn_bbox_loss: 0.0300 - val_mrcnn_class_loss: 1.4409e-04 - val_mrcnn_bbox_loss: 0.0039 - val_mrcnn_mask_loss: 0.2098\n",
            "Epoch 36/50\n",
            "110/110 [==============================] - 150s 1s/step - loss: 0.2927 - rpn_class_loss: 0.0013 - rpn_bbox_loss: 0.0780 - mrcnn_class_loss: 4.2641e-04 - mrcnn_bbox_loss: 0.0141 - mrcnn_mask_loss: 0.1988 - val_loss: 0.2216 - val_rpn_class_loss: 5.5909e-04 - val_rpn_bbox_loss: 0.0323 - val_mrcnn_class_loss: 1.0055e-04 - val_mrcnn_bbox_loss: 0.0040 - val_mrcnn_mask_loss: 0.1847\n",
            "Epoch 37/50\n",
            "110/110 [==============================] - 150s 1s/step - loss: 0.2738 - rpn_class_loss: 0.0012 - rpn_bbox_loss: 0.0614 - mrcnn_class_loss: 2.7816e-04 - mrcnn_bbox_loss: 0.0119 - mrcnn_mask_loss: 0.1991 - val_loss: 0.2147 - val_rpn_class_loss: 2.7712e-04 - val_rpn_bbox_loss: 0.0401 - val_mrcnn_class_loss: 1.8183e-04 - val_mrcnn_bbox_loss: 0.0020 - val_mrcnn_mask_loss: 0.1722\n",
            "Epoch 38/50\n",
            "110/110 [==============================] - 150s 1s/step - loss: 0.3061 - rpn_class_loss: 0.0012 - rpn_bbox_loss: 0.0893 - mrcnn_class_loss: 2.5384e-04 - mrcnn_bbox_loss: 0.0191 - mrcnn_mask_loss: 0.1962 - val_loss: 0.2446 - val_rpn_class_loss: 2.1835e-04 - val_rpn_bbox_loss: 0.0509 - val_mrcnn_class_loss: 6.9006e-05 - val_mrcnn_bbox_loss: 0.0050 - val_mrcnn_mask_loss: 0.1885\n",
            "Epoch 39/50\n",
            "110/110 [==============================] - 152s 1s/step - loss: 0.2939 - rpn_class_loss: 9.6141e-04 - rpn_bbox_loss: 0.0803 - mrcnn_class_loss: 6.5008e-04 - mrcnn_bbox_loss: 0.0169 - mrcnn_mask_loss: 0.1951 - val_loss: 0.2751 - val_rpn_class_loss: 2.1627e-04 - val_rpn_bbox_loss: 0.0537 - val_mrcnn_class_loss: 9.3658e-05 - val_mrcnn_bbox_loss: 0.0047 - val_mrcnn_mask_loss: 0.2163\n",
            "Epoch 40/50\n",
            "110/110 [==============================] - 150s 1s/step - loss: 0.2742 - rpn_class_loss: 0.0018 - rpn_bbox_loss: 0.0575 - mrcnn_class_loss: 4.3023e-04 - mrcnn_bbox_loss: 0.0121 - mrcnn_mask_loss: 0.2024 - val_loss: 0.1988 - val_rpn_class_loss: 3.1990e-04 - val_rpn_bbox_loss: 0.0201 - val_mrcnn_class_loss: 1.3289e-04 - val_mrcnn_bbox_loss: 0.0030 - val_mrcnn_mask_loss: 0.1752\n",
            "Epoch 41/50\n",
            "110/110 [==============================] - 150s 1s/step - loss: 0.2851 - rpn_class_loss: 9.5582e-04 - rpn_bbox_loss: 0.0785 - mrcnn_class_loss: 4.0347e-04 - mrcnn_bbox_loss: 0.0145 - mrcnn_mask_loss: 0.1908 - val_loss: 0.2446 - val_rpn_class_loss: 3.7134e-04 - val_rpn_bbox_loss: 0.0520 - val_mrcnn_class_loss: 0.0017 - val_mrcnn_bbox_loss: 0.0028 - val_mrcnn_mask_loss: 0.1876\n",
            "Epoch 42/50\n",
            "110/110 [==============================] - 150s 1s/step - loss: 0.2890 - rpn_class_loss: 0.0014 - rpn_bbox_loss: 0.0782 - mrcnn_class_loss: 4.2648e-04 - mrcnn_bbox_loss: 0.0180 - mrcnn_mask_loss: 0.1909 - val_loss: 0.2291 - val_rpn_class_loss: 3.0504e-04 - val_rpn_bbox_loss: 0.0313 - val_mrcnn_class_loss: 6.9274e-05 - val_mrcnn_bbox_loss: 0.0021 - val_mrcnn_mask_loss: 0.1953\n",
            "Epoch 43/50\n",
            "110/110 [==============================] - 150s 1s/step - loss: 0.2722 - rpn_class_loss: 9.7538e-04 - rpn_bbox_loss: 0.0622 - mrcnn_class_loss: 2.3920e-04 - mrcnn_bbox_loss: 0.0124 - mrcnn_mask_loss: 0.1964 - val_loss: 0.2221 - val_rpn_class_loss: 7.6921e-04 - val_rpn_bbox_loss: 0.0091 - val_mrcnn_class_loss: 8.1110e-05 - val_mrcnn_bbox_loss: 0.0014 - val_mrcnn_mask_loss: 0.2107\n",
            "Epoch 44/50\n",
            "110/110 [==============================] - 150s 1s/step - loss: 0.2931 - rpn_class_loss: 0.0015 - rpn_bbox_loss: 0.0827 - mrcnn_class_loss: 4.8481e-04 - mrcnn_bbox_loss: 0.0154 - mrcnn_mask_loss: 0.1930 - val_loss: 0.1998 - val_rpn_class_loss: 3.7352e-04 - val_rpn_bbox_loss: 0.0187 - val_mrcnn_class_loss: 6.6352e-05 - val_mrcnn_bbox_loss: 0.0055 - val_mrcnn_mask_loss: 0.1752\n",
            "Epoch 45/50\n",
            "110/110 [==============================] - 150s 1s/step - loss: 0.2812 - rpn_class_loss: 0.0014 - rpn_bbox_loss: 0.0732 - mrcnn_class_loss: 4.6777e-04 - mrcnn_bbox_loss: 0.0134 - mrcnn_mask_loss: 0.1927 - val_loss: 0.2140 - val_rpn_class_loss: 2.6786e-04 - val_rpn_bbox_loss: 0.0231 - val_mrcnn_class_loss: 7.7635e-05 - val_mrcnn_bbox_loss: 0.0033 - val_mrcnn_mask_loss: 0.1873\n",
            "Epoch 46/50\n",
            "110/110 [==============================] - 150s 1s/step - loss: 0.2831 - rpn_class_loss: 0.0013 - rpn_bbox_loss: 0.0739 - mrcnn_class_loss: 4.1151e-04 - mrcnn_bbox_loss: 0.0141 - mrcnn_mask_loss: 0.1934 - val_loss: 0.2426 - val_rpn_class_loss: 0.0061 - val_rpn_bbox_loss: 0.0199 - val_mrcnn_class_loss: 1.0849e-04 - val_mrcnn_bbox_loss: 0.0020 - val_mrcnn_mask_loss: 0.2146\n",
            "Epoch 47/50\n",
            "110/110 [==============================] - 151s 1s/step - loss: 0.2794 - rpn_class_loss: 8.7516e-04 - rpn_bbox_loss: 0.0740 - mrcnn_class_loss: 3.9960e-04 - mrcnn_bbox_loss: 0.0163 - mrcnn_mask_loss: 0.1878 - val_loss: 0.1889 - val_rpn_class_loss: 2.2838e-04 - val_rpn_bbox_loss: 0.0190 - val_mrcnn_class_loss: 1.4155e-04 - val_mrcnn_bbox_loss: 0.0022 - val_mrcnn_mask_loss: 0.1673\n",
            "Epoch 48/50\n",
            "110/110 [==============================] - 150s 1s/step - loss: 0.2736 - rpn_class_loss: 0.0012 - rpn_bbox_loss: 0.0687 - mrcnn_class_loss: 6.7719e-04 - mrcnn_bbox_loss: 0.0152 - mrcnn_mask_loss: 0.1879 - val_loss: 0.2198 - val_rpn_class_loss: 6.1990e-04 - val_rpn_bbox_loss: 0.0122 - val_mrcnn_class_loss: 1.8148e-04 - val_mrcnn_bbox_loss: 0.0022 - val_mrcnn_mask_loss: 0.2045\n",
            "Epoch 49/50\n",
            "110/110 [==============================] - 150s 1s/step - loss: 0.2768 - rpn_class_loss: 0.0012 - rpn_bbox_loss: 0.0699 - mrcnn_class_loss: 5.6173e-04 - mrcnn_bbox_loss: 0.0142 - mrcnn_mask_loss: 0.1909 - val_loss: 0.2302 - val_rpn_class_loss: 2.5259e-04 - val_rpn_bbox_loss: 0.0226 - val_mrcnn_class_loss: 1.4246e-04 - val_mrcnn_bbox_loss: 0.0017 - val_mrcnn_mask_loss: 0.2054\n",
            "Epoch 50/50\n",
            "110/110 [==============================] - 151s 1s/step - loss: 0.2745 - rpn_class_loss: 0.0019 - rpn_bbox_loss: 0.0688 - mrcnn_class_loss: 5.5483e-04 - mrcnn_bbox_loss: 0.0160 - mrcnn_mask_loss: 0.1873 - val_loss: 0.2589 - val_rpn_class_loss: 6.7997e-04 - val_rpn_bbox_loss: 0.0496 - val_mrcnn_class_loss: 1.2642e-04 - val_mrcnn_bbox_loss: 0.0027 - val_mrcnn_mask_loss: 0.2058\n"
          ]
        }
      ],
      "source": [
        "epoch, loss, val_loss = train(model)"
      ]
    },
    {
      "cell_type": "code",
      "source": [
        "loss_visualize(epoch, loss, val_loss)"
      ],
      "metadata": {
        "colab": {
          "base_uri": "https://localhost:8080/",
          "height": 299
        },
        "id": "EnkyAFWAEaXm",
        "outputId": "e7ea0d60-3a7d-450f-dd2f-19db1d2c2833"
      },
      "execution_count": null,
      "outputs": [
        {
          "output_type": "display_data",
          "data": {
            "text/plain": [
              "<Figure size 432x288 with 1 Axes>"
            ],
            "image/png": "[encoded data removed]"
          },
          "metadata": {}
        }
      ]
    },
    {
      "cell_type": "markdown",
      "source": [
        "**SAVE WEIGHTS**"
      ],
      "metadata": {
        "id": "w6x3P9PjiriY"
      }
    },
    {
      "cell_type": "code",
      "execution_count": null,
      "metadata": {
        "id": "F8ConwKAXfPZ"
      },
      "outputs": [],
      "source": [
        "model_path = os.path.join(\"/content/drive/MyDrive/\", \"mask_rcnn_nucleus_cpm17_2.h5\")\n",
        "model.keras_model.save_weights(model_path)"
      ]
    },
    {
      "cell_type": "markdown",
      "source": [
        "**INFERENCE CLASS CONFIGURATION**"
      ],
      "metadata": {
        "id": "qnSS1tGbit1M"
      }
    },
    {
      "cell_type": "code",
      "execution_count": null,
      "metadata": {
        "id": "6hex5Caxshp5"
      },
      "outputs": [],
      "source": [
        "class NucleusInferenceConfig(NucleusConfig):\n",
        "    # Set batch size to 1 to run one image at a time\n",
        "    GPU_COUNT = 1\n",
        "    IMAGES_PER_GPU = 1\n",
        "    # Don't resize imager for inferencing\n",
        "    IMAGE_RESIZE_MODE = \"pad64\"\n",
        "    # Non-max suppression threshold to filter RPN proposals.\n",
        "    # You can increase this during training to generate more propsals.\n",
        "    RPN_NMS_THRESHOLD = 0.7"
      ]
    },
    {
      "cell_type": "markdown",
      "source": [
        "**LOAD SAVED WEIGHTS**"
      ],
      "metadata": {
        "id": "2vMTX1Bfix1T"
      }
    },
    {
      "cell_type": "code",
      "execution_count": null,
      "metadata": {
        "colab": {
          "base_uri": "https://localhost:8080/"
        },
        "id": "2nz6d6gVuDe3",
        "outputId": "733cdf91-623d-43e8-f3cc-c437048c5f06"
      },
      "outputs": [
        {
          "output_type": "stream",
          "name": "stdout",
          "text": [
            "\n",
            "Configurations:\n",
            "BACKBONE                       resnet50\n",
            "BACKBONE_STRIDES               [4, 8, 16, 32, 64]\n",
            "BATCH_SIZE                     1\n",
            "BBOX_STD_DEV                   [0.1 0.1 0.2 0.2]\n",
            "COMPUTE_BACKBONE_SHAPE         None\n",
            "DETECTION_MAX_INSTANCES        400\n",
            "DETECTION_MIN_CONFIDENCE       0\n",
            "DETECTION_NMS_THRESHOLD        0.3\n",
            "FPN_CLASSIF_FC_LAYERS_SIZE     1024\n",
            "GPU_COUNT                      1\n",
            "GRADIENT_CLIP_NORM             5.0\n",
            "IMAGES_PER_GPU                 1\n",
            "IMAGE_CHANNEL_COUNT            3\n",
            "IMAGE_MAX_DIM                  512\n",
            "IMAGE_META_SIZE                14\n",
            "IMAGE_MIN_DIM                  512\n",
            "IMAGE_MIN_SCALE                2.0\n",
            "IMAGE_RESIZE_MODE              pad64\n",
            "IMAGE_SHAPE                    [512 512   3]\n",
            "LEARNING_MOMENTUM              0.9\n",
            "LEARNING_RATE                  0.001\n",
            "LOSS_WEIGHTS                   {'rpn_class_loss': 1.0, 'rpn_bbox_loss': 1.0, 'mrcnn_class_loss': 1.0, 'mrcnn_bbox_loss': 1.0, 'mrcnn_mask_loss': 1.0}\n",
            "MASK_POOL_SIZE                 14\n",
            "MASK_SHAPE                     [28, 28]\n",
            "MAX_GT_INSTANCES               200\n",
            "MEAN_PIXEL                     [47.49 41.63 51.28]\n",
            "MINI_MASK_SHAPE                (56, 56)\n",
            "NAME                           nucleus\n",
            "NUM_CLASSES                    2\n",
            "POOL_SIZE                      7\n",
            "POST_NMS_ROIS_INFERENCE        2000\n",
            "POST_NMS_ROIS_TRAINING         1000\n",
            "PRE_NMS_LIMIT                  6000\n",
            "ROI_POSITIVE_RATIO             0.33\n",
            "RPN_ANCHOR_RATIOS              [0.5, 1, 2]\n",
            "RPN_ANCHOR_SCALES              (8, 16, 32, 64, 128)\n",
            "RPN_ANCHOR_STRIDE              1\n",
            "RPN_BBOX_STD_DEV               [0.1 0.1 0.2 0.2]\n",
            "RPN_NMS_THRESHOLD              0.7\n",
            "RPN_TRAIN_ANCHORS_PER_IMAGE    64\n",
            "STEPS_PER_EPOCH                110\n",
            "TOP_DOWN_PYRAMID_SIZE          256\n",
            "TRAIN_BN                       False\n",
            "TRAIN_ROIS_PER_IMAGE           128\n",
            "USE_MINI_MASK                  True\n",
            "USE_RPN_ROIS                   True\n",
            "VALIDATION_STEPS               2\n",
            "WEIGHT_DECAY                   0.0001\n",
            "\n",
            "\n"
          ]
        }
      ],
      "source": [
        "from mrcnn import utils\n",
        "from mrcnn import visualize\n",
        "from mrcnn.visualize import display_images\n",
        "import mrcnn.model as modellib\n",
        "from mrcnn.model import log\n",
        "import tensorflow as tf\n",
        "config = NucleusInferenceConfig()\n",
        "config.display()\n",
        "DEVICE = \"/gpu:0\"  # /cpu:0 or /gpu:0\n",
        "with tf.device(DEVICE):\n",
        "    nmodel1 = modellib.MaskRCNN(mode=\"inference\",\n",
        "                              model_dir=MODEL_DIR,\n",
        "                              config=config)\n",
        "\n",
        "weights_path = \"/content/drive/MyDrive/mask_rcnn_nucleus_cpm17_2.h5\"\n",
        "#nmodel1.load_weights(model.find_last()[1], by_name=True)\n",
        "nmodel1.load_weights(weights_path, by_name=True)  "
      ]
    },
    {
      "cell_type": "markdown",
      "source": [
        "**TEST DATA FOR BASELINE MODEL**"
      ],
      "metadata": {
        "id": "tuZrstGzi1hn"
      }
    },
    {
      "cell_type": "code",
      "execution_count": null,
      "metadata": {
        "colab": {
          "base_uri": "https://localhost:8080/"
        },
        "id": "2_7ZOGnJyq4y",
        "outputId": "7acb4f4a-8f3d-437e-975c-55c0126e25e1"
      },
      "outputs": [
        {
          "name": "stdout",
          "output_type": "stream",
          "text": [
            "Number of training masks:  31\n",
            "Number of validation masks:  31\n",
            "Number of overlayed masks:  31\n"
          ]
        },
        {
          "name": "stderr",
          "output_type": "stream",
          "text": [
            "/usr/local/lib/python3.7/dist-packages/ipykernel_launcher.py:7: FutureWarning: The default value of regex will change from True to False in a future version.\n",
            "  import sys\n",
            "/usr/local/lib/python3.7/dist-packages/ipykernel_launcher.py:21: FutureWarning: The default value of regex will change from True to False in a future version.\n",
            "/usr/local/lib/python3.7/dist-packages/ipykernel_launcher.py:32: FutureWarning: The default value of regex will change from True to False in a future version.\n"
          ]
        }
      ],
      "source": [
        "\n",
        "data = []\n",
        "for file in sorted(os.listdir(r'/content/drive/MyDrive/cpm17/test/Images')):\n",
        "    data.append(file)\n",
        "\n",
        "test_imgs = pd.DataFrame(data, columns=['imageid'])\n",
        "test_imgs['imageid'] = test_imgs['imageid'].str.replace('.jpg','')\n",
        "\n",
        "test_imageid = test_imgs['imageid'].tolist()\n",
        "\n",
        "print('Number of training masks: ', len(test_imageid))\n",
        "#for i in range(len(train_mask_imageid)):\n",
        "  #print(train_mask_imageid[i])\n",
        "\n",
        "\n",
        "data = []\n",
        "for file in sorted(os.listdir(r'/content/drive/MyDrive/cpm17/test/pnglabels')):\n",
        "    data.append(file)\n",
        "\n",
        "test_mask = pd.DataFrame(data, columns=['imageid'])\n",
        "test_mask['imageid'] = test_mask['imageid'].str.replace('.jpg','')\n",
        "\n",
        "test_mask_imageid = test_mask['imageid'].tolist()\n",
        "\n",
        "print('Number of validation masks: ', len(test_mask_imageid))\n",
        "\n",
        "data = []\n",
        "for file in sorted(os.listdir(r'/content/drive/MyDrive/cpm17/test/Overlay')):\n",
        "    data.append(file)\n",
        "\n",
        "test_overlay_mask = pd.DataFrame(data, columns=['imageid'])\n",
        "test_overlay_mask['imageid'] = test_overlay_mask['imageid'].str.replace('.jpg','')\n",
        "\n",
        "test_overlay_imageid = test_overlay_mask['imageid'].tolist()\n",
        "\n",
        "print('Number of overlayed masks: ', len(test_overlay_imageid))"
      ]
    },
    {
      "cell_type": "code",
      "execution_count": null,
      "metadata": {
        "id": "6boXDbfj8FXt"
      },
      "outputs": [],
      "source": [
        "test_overlay_imageid = np.array(test_overlay_imageid)"
      ]
    },
    {
      "cell_type": "code",
      "execution_count": null,
      "metadata": {
        "colab": {
          "base_uri": "https://localhost:8080/"
        },
        "id": "UN2ohYEv8M_R",
        "outputId": "f3c29cd8-e2b6-4761-d846-7c8ee87f32be"
      },
      "outputs": [
        {
          "data": {
            "text/plain": [
              "(32,)"
            ]
          },
          "execution_count": 110,
          "metadata": {},
          "output_type": "execute_result"
        }
      ],
      "source": [
        "test_overlay_imageid.shape"
      ]
    },
    {
      "cell_type": "code",
      "execution_count": null,
      "metadata": {
        "colab": {
          "base_uri": "https://localhost:8080/",
          "height": 1000
        },
        "id": "BtnCL84NwjV8",
        "outputId": "6882d725-967b-4847-8ebb-10f85d74b52c"
      },
      "outputs": [],
      "source": [
        "\n",
        "import random\n",
        "randomlist = random.sample(range(0, 772), 200)\n",
        "prediction1 = []\n",
        "gt1 = []\n",
        "length = 100\n",
        "for i in range(31):\n",
        "  #i = randomlist[j]\n",
        "  image_name = \"/content/drive/MyDrive/cpm17/test/Images/\" + str(test_imageid[i])\n",
        "  print(image_name)\n",
        "  im = imageio.imread(image_name)\n",
        "  im  = cv2.resize(im, (500, 500))\n",
        "  r = nmodel1.detect([im], verbose=1)[0]\n",
        "  plt.figure(figsize=(20,5),dpi=100)\n",
        "  ax1=plt.subplot(1,5,1)\n",
        "  plt.imshow(im)\n",
        "  plt.title('Input Image')\n",
        "  plt.axis('off')\n",
        "  ax2=plt.subplot(1,5,2)\n",
        "  visualize.display_instances(im, r['rois'], r['masks'], r['class_ids'],['BG','-'], r['scores'],show_bbox=False, ax=ax2)\n",
        "  plt.title('Prediction overlap with input')\n",
        "  plt.axis('off')\n",
        "  plt.subplot(1,5,3)\n",
        "  individual_nuclei = r['masks']\n",
        "  patch_size = 500\n",
        "  predicted_nuclei = np.zeros((patch_size,patch_size), dtype = int)\n",
        "  n_nuc = 0\n",
        "  for k in range(individual_nuclei.shape[2]):\n",
        "      n_nuc += 1\n",
        "      nuc_mask = r['masks'][:,:,k]\n",
        "      predicted_nuclei += (n_nuc)*nuc_mask\n",
        "  predicted_nuclei = predicted_nuclei >0\n",
        "  prediction1.append(predicted_nuclei)\n",
        "  plt.imshow(predicted_nuclei)\n",
        "  plt.title('Output Mask')\n",
        "  plt.axis('off')\n",
        "  plt.subplot(1,5,4)\n",
        "  gt_overlapped = \"/content/drive/MyDrive/cpm17/test/Overlay/\" + str(test_overlay_imageid[i])\n",
        "  overlay = imageio.imread(gt_overlapped)\n",
        "  overlay = cv2.resize(overlay, (500, 500)) \n",
        "  #ax3=plt.subplot(1,5,2)\n",
        "  #color = (1.0, 0.0, 0.0)\n",
        "  #overlay = visualize.apply_mask(im,overlay, color)\n",
        "  plt.imshow(overlay)\n",
        "  plt.title('Original Mask Overlay')\n",
        "  plt.axis('off')\n",
        "  plt.subplot(1,5,5)\n",
        "  mask  = \"/content/drive/MyDrive/cpm17/test/pnglabels/\" + str(test_mask_imageid[i])\n",
        "  msk = imageio.imread(mask)\n",
        "  \n",
        "  msk = cv2.resize(msk, (500, 500)) \n",
        "  msk = msk>0\n",
        "  gt1.append(msk)\n",
        "  plt.imshow(msk)\n",
        "  plt.title('Groundtruth')\n",
        "  plt.axis('off')\n",
        "  plt.show()  \n",
        "  print(i)"
      ]
    },
    {
      "cell_type": "markdown",
      "source": [
        "**AJI SCORE BASELINE MODEL**"
      ],
      "metadata": {
        "id": "Ys2wk0wZi8Eq"
      }
    },
    {
      "cell_type": "code",
      "execution_count": null,
      "metadata": {
        "colab": {
          "base_uri": "https://localhost:8080/"
        },
        "id": "38zXlmynz_QT",
        "outputId": "b562e482-b140-491a-b901-c763c8d56d62"
      },
      "outputs": [
        {
          "output_type": "stream",
          "name": "stderr",
          "text": [
            "/usr/local/lib/python3.7/dist-packages/ipykernel_launcher.py:46: DeprecationWarning: In future, it will be an error for 'np.bool_' scalars to be interpreted as an index\n",
            "/usr/local/lib/python3.7/dist-packages/ipykernel_launcher.py:53: DeprecationWarning: In future, it will be an error for 'np.bool_' scalars to be interpreted as an index\n"
          ]
        },
        {
          "output_type": "execute_result",
          "data": {
            "text/plain": [
              "0.17649937540138252"
            ]
          },
          "metadata": {},
          "execution_count": 194
        }
      ],
      "source": [
        "get_fast_aji(gt1, prediction1)"
      ]
    },
    {
      "cell_type": "markdown",
      "source": [
        "**DQ /SQ/ PQ SCORE BASELINE MODEL**"
      ],
      "metadata": {
        "id": "-NAXn8t-i_H1"
      }
    },
    {
      "cell_type": "code",
      "source": [
        "\n",
        "gt2 = np.array(gt1)\n",
        "prediction2 = np.array(prediction1)"
      ],
      "metadata": {
        "id": "H5bw4_VsVOz4"
      },
      "execution_count": null,
      "outputs": []
    },
    {
      "cell_type": "code",
      "execution_count": null,
      "metadata": {
        "id": "lG2S_Q_Hy4Pg",
        "colab": {
          "base_uri": "https://localhost:8080/"
        },
        "outputId": "22715277-ce6b-4d05-9882-ae5f0193ddda"
      },
      "outputs": [
        {
          "output_type": "stream",
          "name": "stderr",
          "text": [
            "/usr/local/lib/python3.7/dist-packages/ipykernel_launcher.py:220: DeprecationWarning: In future, it will be an error for 'np.bool_' scalars to be interpreted as an index\n",
            "/usr/local/lib/python3.7/dist-packages/ipykernel_launcher.py:227: DeprecationWarning: In future, it will be an error for 'np.bool_' scalars to be interpreted as an index\n"
          ]
        },
        {
          "output_type": "stream",
          "name": "stdout",
          "text": [
            "matched\n",
            "average of DQ 0.2624372442652709\n"
          ]
        },
        {
          "output_type": "execute_result",
          "data": {
            "text/plain": [
              "[0.2624372442652709, 0.17649937540138252, 0.046320009694880364]"
            ]
          },
          "metadata": {},
          "execution_count": 196
        }
      ],
      "source": [
        "\n",
        "get_fast_pq(gt1, prediction1)"
      ]
    },
    {
      "cell_type": "markdown",
      "source": [
        "**DICE SCORE BASELINE MODEL**"
      ],
      "metadata": {
        "id": "argMaJU-jEl0"
      }
    },
    {
      "cell_type": "code",
      "source": [
        "\n",
        "get_dice_1(gt1, prediction1)"
      ],
      "metadata": {
        "colab": {
          "base_uri": "https://localhost:8080/"
        },
        "id": "bYntVLR2RJ-H",
        "outputId": "edcd3e31-ec17-4acb-ef07-00ede75cc22d"
      },
      "execution_count": null,
      "outputs": [
        {
          "output_type": "execute_result",
          "data": {
            "text/plain": [
              "0.3000415964371707"
            ]
          },
          "metadata": {},
          "execution_count": 199
        }
      ]
    },
    {
      "cell_type": "markdown",
      "source": [
        "**TEST DATA FOR ENHANCED MODEL**"
      ],
      "metadata": {
        "id": "C4OaPIHxjIbL"
      }
    },
    {
      "cell_type": "code",
      "source": [
        "\n",
        "data = []\n",
        "for file in sorted(os.listdir(r'/content/drive/MyDrive/cpm17/test/prepped_test_data/images')):\n",
        "    data.append(file)\n",
        "\n",
        "test_imgs = pd.DataFrame(data, columns=['imageid'])\n",
        "test_imgs['imageid'] = test_imgs['imageid'].str.replace('.jpg','')\n",
        "\n",
        "test_imageid = test_imgs['imageid'].tolist()\n",
        "\n",
        "print('Number of training masks: ', len(test_imageid))\n",
        "#for i in range(len(train_mask_imageid)):\n",
        "  #print(train_mask_imageid[i])\n",
        "\n",
        "\n",
        "data = []\n",
        "for file in sorted(os.listdir(r'/content/drive/MyDrive/cpm17/test/prepped_test_data/masks')):\n",
        "    data.append(file)\n",
        "\n",
        "test_mask = pd.DataFrame(data, columns=['imageid'])\n",
        "test_mask['imageid'] = test_mask['imageid'].str.replace('.jpg','')\n",
        "\n",
        "test_mask_imageid = test_mask['imageid'].tolist()\n",
        "\n",
        "print('Number of validation masks: ', len(test_mask_imageid))\n",
        "\n",
        "data = []\n",
        "for file in sorted(os.listdir(r'/content/drive/MyDrive/cpm17/test/overlays')):\n",
        "    data.append(file)\n",
        "\n",
        "test_overlay_mask = pd.DataFrame(data, columns=['imageid'])\n",
        "test_overlay_mask['imageid'] = test_overlay_mask['imageid'].str.replace('.jpg','')\n",
        "\n",
        "test_overlay_imageid = test_overlay_mask['imageid'].tolist()\n",
        "\n",
        "print('Number of overlayed masks: ', len(test_overlay_imageid))"
      ],
      "metadata": {
        "colab": {
          "base_uri": "https://localhost:8080/"
        },
        "id": "tZiz1YuTXKO3",
        "outputId": "f7c06061-c998-43aa-fa2b-913e05c51f3f"
      },
      "execution_count": null,
      "outputs": [
        {
          "output_type": "stream",
          "name": "stdout",
          "text": [
            "Number of training masks:  772\n",
            "Number of validation masks:  772\n",
            "Number of overlayed masks:  772\n"
          ]
        },
        {
          "output_type": "stream",
          "name": "stderr",
          "text": [
            "/usr/local/lib/python3.7/dist-packages/ipykernel_launcher.py:7: FutureWarning: The default value of regex will change from True to False in a future version.\n",
            "  import sys\n",
            "/usr/local/lib/python3.7/dist-packages/ipykernel_launcher.py:21: FutureWarning: The default value of regex will change from True to False in a future version.\n",
            "/usr/local/lib/python3.7/dist-packages/ipykernel_launcher.py:32: FutureWarning: The default value of regex will change from True to False in a future version.\n"
          ]
        }
      ]
    },
    {
      "cell_type": "code",
      "execution_count": null,
      "metadata": {
        "colab": {
          "base_uri": "https://localhost:8080/",
          "height": 1000
        },
        "id": "t2CK8E58yQyG",
        "outputId": "5efce7b4-4a68-4de9-b2a2-bc681db6d088"
      },
      "outputs": [],
      "source": [
        "prediction = []\n",
        "gt = []\n",
        "import random\n",
        "randomlist = random.sample(range(0, 772), 200)\n",
        "prediction = []\n",
        "gt = []\n",
        "length = 100\n",
        "for j in range(100):\n",
        "  i = randomlist[j]\n",
        "  image_name = \"/content/drive/MyDrive/cpm17/test/prepped_test_data/images/\" + str(test_imageid[i])\n",
        "  im = imageio.imread(image_name)\n",
        "  r = nmodel1.detect([im], verbose=1)[0]\n",
        "  plt.figure(figsize=(20,5),dpi=100)\n",
        "  ax1=plt.subplot(1,5,1)\n",
        "  plt.imshow(im)\n",
        "  plt.title('Input Image')\n",
        "  plt.axis('off')\n",
        "  ax2=plt.subplot(1,5,2)\n",
        "  visualize.display_instances(im, r['rois'], r['masks'], r['class_ids'], r['scores'], ax=ax2)\n",
        "  plt.title('Prediction overlap with input')\n",
        "  plt.axis('off')\n",
        "  plt.subplot(1,5,3)\n",
        "  individual_nuclei = r['masks']\n",
        "  patch_size = 256\n",
        "  predicted_nuclei = np.zeros((patch_size,patch_size), dtype = int)\n",
        "  n_nuc = 0\n",
        "  for k in range(individual_nuclei.shape[2]):\n",
        "      n_nuc += 1\n",
        "      nuc_mask = r['masks'][:,:,k]\n",
        "      predicted_nuclei += (n_nuc)*nuc_mask\n",
        "  predicted_nuclei = predicted_nuclei >0\n",
        "  prediction.append(predicted_nuclei)\n",
        "  plt.imshow(predicted_nuclei)\n",
        "  plt.title('Output Mask')\n",
        "  plt.axis('off')\n",
        "  plt.subplot(1,5,4)\n",
        "  gt_overlapped = \"/content/drive/MyDrive/cpm17/test/overlays/\" + str(test_overlay_imageid[i])\n",
        "  overlay = imageio.imread(gt_overlapped)\n",
        "   \n",
        "  #ax3=plt.subplot(1,5,2)\n",
        "  #color = (1.0, 0.0, 0.0)\n",
        "  #overlay = visualize.apply_mask(im,overlay, color)\n",
        "  plt.imshow(overlay)\n",
        "  plt.title('Original Mask Overlay')\n",
        "  plt.axis('off')\n",
        "  plt.subplot(1,5,5)\n",
        "  mask  = \"/content/drive/MyDrive/cpm17/test/mask/\" + str(test_mask_imageid[i])\n",
        "  msk = imageio.imread(mask)\n",
        "  msk = msk>0\n",
        "  gt.append(msk)\n",
        "  plt.imshow(msk)\n",
        "  plt.title('Groundtruth')\n",
        "  plt.axis('off')\n",
        "  plt.show()  \n",
        "  print(i)"
      ]
    },
    {
      "cell_type": "markdown",
      "source": [
        "**AJI SCORE ENHANCED MODEL**"
      ],
      "metadata": {
        "id": "kcXbOHrvjNcm"
      }
    },
    {
      "cell_type": "code",
      "execution_count": null,
      "metadata": {
        "id": "S27VqkRfzIQW",
        "colab": {
          "base_uri": "https://localhost:8080/"
        },
        "outputId": "70968838-e1de-42a8-90fe-9eb6cc3c3518"
      },
      "outputs": [
        {
          "output_type": "stream",
          "name": "stderr",
          "text": [
            "/usr/local/lib/python3.7/dist-packages/ipykernel_launcher.py:46: DeprecationWarning: In future, it will be an error for 'np.bool_' scalars to be interpreted as an index\n",
            "/usr/local/lib/python3.7/dist-packages/ipykernel_launcher.py:53: DeprecationWarning: In future, it will be an error for 'np.bool_' scalars to be interpreted as an index\n"
          ]
        },
        {
          "output_type": "execute_result",
          "data": {
            "text/plain": [
              "0.6657549820105473"
            ]
          },
          "metadata": {},
          "execution_count": 204
        }
      ],
      "source": [
        "get_fast_aji(gt, prediction)\n"
      ]
    },
    {
      "cell_type": "markdown",
      "source": [
        "**DQ/ SQ/ PQ SCORE ENHANCED MODEL**"
      ],
      "metadata": {
        "id": "io1mKSwhjQMA"
      }
    },
    {
      "cell_type": "code",
      "source": [
        "\n",
        "get_fast_pq(gt, prediction)\n"
      ],
      "metadata": {
        "colab": {
          "base_uri": "https://localhost:8080/"
        },
        "id": "pXnYp5MDZT14",
        "outputId": "d68c3e31-e7f8-466a-be46-a212fd4bb8be"
      },
      "execution_count": null,
      "outputs": [
        {
          "output_type": "stream",
          "name": "stderr",
          "text": [
            "/usr/local/lib/python3.7/dist-packages/ipykernel_launcher.py:220: DeprecationWarning: In future, it will be an error for 'np.bool_' scalars to be interpreted as an index\n",
            "/usr/local/lib/python3.7/dist-packages/ipykernel_launcher.py:227: DeprecationWarning: In future, it will be an error for 'np.bool_' scalars to be interpreted as an index\n"
          ]
        },
        {
          "output_type": "stream",
          "name": "stdout",
          "text": [
            "matched\n",
            "average of DQ 0.7972845782361972\n"
          ]
        },
        {
          "output_type": "execute_result",
          "data": {
            "text/plain": [
              "[0.7972845782361972, 0.6657549820105473, 0.5307961800409263]"
            ]
          },
          "metadata": {},
          "execution_count": 206
        }
      ]
    },
    {
      "cell_type": "markdown",
      "source": [
        "**DICE SCORE ENHANCED MODEL**"
      ],
      "metadata": {
        "id": "4UWQuqrDjVE0"
      }
    },
    {
      "cell_type": "code",
      "execution_count": null,
      "metadata": {
        "colab": {
          "base_uri": "https://localhost:8080/"
        },
        "id": "enhHOSIZu32C",
        "outputId": "85188c99-4c34-4500-9e5a-3e386adb9e44"
      },
      "outputs": [
        {
          "name": "stdout",
          "output_type": "stream",
          "text": [
            "average of Dice Coefficient 0.8080224288228556\n"
          ]
        }
      ],
      "source": [
        "get_dice_1( prediction,gt)"
      ]
    },
    {
      "cell_type": "markdown",
      "source": [
        "**Evaluation Metric functions**"
      ],
      "metadata": {
        "id": "QTCR0nYojuuD"
      }
    },
    {
      "cell_type": "code",
      "source": [
        "\n",
        "import cv2\n",
        "import matplotlib.pyplot as plt\n",
        "import numpy as np\n",
        "import scipy\n",
        "from scipy.optimize import linear_sum_assignment\n",
        "\n",
        "def DQ(testing_imgs,y_masks):\n",
        "  dq = []\n",
        "  for i in range(100):\n",
        "    \n",
        "    #ground_truth= y_masks[i]\n",
        "    #test_pred1 = model.predict(test_img_input1)\n",
        "    y_test = testing_imgs[i]\n",
        "    test_mask=y_masks[i]\n",
        "   \n",
        "    dq.append(K.eval(f1(test_mask, y_test)))\n",
        "  print (\"average of DQ\", sum(dq) / 100)\n",
        "  return sum(dq)/100\n",
        "def f1( y_true, y_pred):\n",
        "        y_true_f = K.flatten(y_true)\n",
        "        y_pred_f = K.flatten(y_pred)\n",
        "        intersection = K.sum(y_true_f * y_pred_f)\n",
        "        v1 =  K.sum(y_true_f) / intersection\n",
        "        v2 =  K.sum(y_pred_f)/ intersection\n",
        "        return (2+ K.epsilon()) / (\n",
        "                   v1 + v2 + K.epsilon())     \n",
        "def get_fast_aji(true, pred):\n",
        "    \"\"\"AJI version distributed by MoNuSeg, has no permutation problem but suffered from \n",
        "    over-penalisation similar to DICE2.\n",
        "    Fast computation requires instance IDs are in contiguous orderding i.e [1, 2, 3, 4] \n",
        "    not [2, 3, 6, 10]. Please call `remap_label` before hand and `by_size` flag has no \n",
        "    effect on the result.\n",
        "    \"\"\"\n",
        "    true = np.copy(true)  # ? do we need this\n",
        "    pred = np.copy(pred)\n",
        "    true_id_list = list(np.unique(true))\n",
        "    pred_id_list = list(np.unique(pred))\n",
        "\n",
        "    true_masks = [\n",
        "        None,\n",
        "    ]\n",
        "    for t in true_id_list[1:]:\n",
        "        t_mask = np.array(true == t, np.uint8)\n",
        "        true_masks.append(t_mask)\n",
        "\n",
        "    pred_masks = [\n",
        "        None,\n",
        "    ]\n",
        "    for p in pred_id_list[1:]:\n",
        "        p_mask = np.array(pred == p, np.uint8)\n",
        "        pred_masks.append(p_mask)\n",
        "\n",
        "    # prefill with value\n",
        "    pairwise_inter = np.zeros(\n",
        "        [len(true_id_list) - 1, len(pred_id_list) - 1], dtype=np.float64\n",
        "    )\n",
        "    pairwise_union = np.zeros(\n",
        "        [len(true_id_list) - 1, len(pred_id_list) - 1], dtype=np.float64\n",
        "    )\n",
        "\n",
        "    # caching pairwise\n",
        "    for true_id in true_id_list[1:]:  # 0-th is background\n",
        "        t_mask = true_masks[true_id]\n",
        "        pred_true_overlap = pred[t_mask > 0]\n",
        "        pred_true_overlap_id = np.unique(pred_true_overlap)\n",
        "        pred_true_overlap_id = list(pred_true_overlap_id)\n",
        "        for pred_id in pred_true_overlap_id:\n",
        "            if pred_id == 0:  # ignore\n",
        "                continue  # overlaping background\n",
        "            p_mask = pred_masks[pred_id]\n",
        "            total = (t_mask + p_mask).sum()\n",
        "            inter = (t_mask * p_mask).sum()\n",
        "            pairwise_inter[true_id - 1, pred_id - 1] = inter\n",
        "            pairwise_union[true_id - 1, pred_id - 1] = total - inter\n",
        "\n",
        "    pairwise_iou = pairwise_inter / (pairwise_union + 1.0e-6)\n",
        "    # pair of pred that give highest iou for each true, dont care\n",
        "    # about reusing pred instance multiple times\n",
        "    paired_pred = np.argmax(pairwise_iou, axis=1)\n",
        "    pairwise_iou = np.max(pairwise_iou, axis=1)\n",
        "    # exlude those dont have intersection\n",
        "    paired_true = np.nonzero(pairwise_iou > 0.0)[0]\n",
        "    paired_pred = paired_pred[paired_true]\n",
        "    # print(paired_true.shape, paired_pred.shape)\n",
        "    overall_inter = (pairwise_inter[paired_true, paired_pred]).sum()\n",
        "    overall_union = (pairwise_union[paired_true, paired_pred]).sum()\n",
        "\n",
        "    paired_true = list(paired_true + 1)  # index to instance ID\n",
        "    paired_pred = list(paired_pred + 1)\n",
        "    # add all unpaired GT and Prediction into the union\n",
        "    unpaired_true = np.array(\n",
        "        [idx for idx in true_id_list[1:] if idx not in paired_true]\n",
        "    )\n",
        "    unpaired_pred = np.array(\n",
        "        [idx for idx in pred_id_list[1:] if idx not in paired_pred]\n",
        "    )\n",
        "    for true_id in unpaired_true:\n",
        "        overall_union += true_masks[true_id].sum()\n",
        "    for pred_id in unpaired_pred:\n",
        "        overall_union += pred_masks[pred_id].sum()\n",
        "\n",
        "    aji_score = overall_inter / overall_union\n",
        "    return aji_score\n",
        "\n",
        "epsilon = 1e-5\n",
        "def dice_coef( y_true, y_pred):\n",
        "        y_true_f = K.flatten(y_true)\n",
        "        y_pred_f = K.flatten(y_pred)\n",
        "        intersection = K.sum(y_true_f * y_pred_f)\n",
        "        return (2. * intersection + K.epsilon()) / (\n",
        "                    K.sum(y_true_f) + K.sum(y_pred_f) + K.epsilon())\n",
        "def testMetrics(testing_imgs,y_masks):\n",
        "  dice_coefficient_test = []\n",
        "  for i in range(31):\n",
        "    \n",
        "    #ground_truth= y_masks[i]\n",
        "    #test_pred1 = model.predict(test_img_input1)\n",
        "    y_test = testing_imgs[i]\n",
        "    test_mask=y_masks[i]\n",
        "   \n",
        "    dice_coefficient_test.append(K.eval(dice_coef(test_mask, y_test)))\n",
        "  print (\"average of Dice Coefficient\", sum(dice_coefficient_test) / 31)        \n",
        "#####\n",
        "def get_fast_pq(true, pred, match_iou=0.3):\n",
        "    \"\"\"`match_iou` is the IoU threshold level to determine the pairing between\n",
        "    GT instances `p` and prediction instances `g`. `p` and `g` is a pair\n",
        "    if IoU > `match_iou`. However, pair of `p` and `g` must be unique \n",
        "    (1 prediction instance to 1 GT instance mapping).\n",
        "    If `match_iou` < 0.5, Munkres assignment (solving minimum weight matching\n",
        "    in bipartite graphs) is caculated to find the maximal amount of unique pairing. \n",
        "    If `match_iou` >= 0.5, all IoU(p,g) > 0.5 pairing is proven to be unique and\n",
        "    the number of pairs is also maximal.    \n",
        "    \n",
        "    Fast computation requires instance IDs are in contiguous orderding \n",
        "    i.e [1, 2, 3, 4] not [2, 3, 6, 10]. Please call `remap_label` beforehand \n",
        "    and `by_size` flag has no effect on the result.\n",
        "    Returns:\n",
        "        [dq, sq, pq]: measurement statistic\n",
        "        [paired_true, paired_pred, unpaired_true, unpaired_pred]: \n",
        "                      pairing information to perform measurement\n",
        "                    \n",
        "    \"\"\"\n",
        "    assert match_iou >= 0.0, \"Cant' be negative\"\n",
        "\n",
        "    true = np.copy(true)\n",
        "    pred = np.copy(pred)\n",
        "    true_id_list = list(np.unique(true))\n",
        "    pred_id_list = list(np.unique(pred))\n",
        "\n",
        "    true_masks = [\n",
        "        None,\n",
        "    ]\n",
        "    for t in true_id_list[1:]:\n",
        "        t_mask = np.array(true == t, np.uint8)\n",
        "        true_masks.append(t_mask)\n",
        "\n",
        "    pred_masks = [\n",
        "        None,\n",
        "    ]\n",
        "    for p in pred_id_list[1:]:\n",
        "        p_mask = np.array(pred == p, np.uint8)\n",
        "        pred_masks.append(p_mask)\n",
        "\n",
        "    # prefill with value\n",
        "    pairwise_iou = np.zeros(\n",
        "        [len(true_id_list) - 1, len(pred_id_list) - 1], dtype=np.float64\n",
        "    )\n",
        "\n",
        "    # caching pairwise iou\n",
        "    for true_id in true_id_list[1:]:  # 0-th is background\n",
        "        t_mask = true_masks[true_id]\n",
        "        pred_true_overlap = pred[t_mask > 0]\n",
        "        pred_true_overlap_id = np.unique(pred_true_overlap)\n",
        "        pred_true_overlap_id = list(pred_true_overlap_id)\n",
        "        for pred_id in pred_true_overlap_id:\n",
        "            if pred_id == 0:  # ignore\n",
        "                continue  # overlaping background\n",
        "            p_mask = pred_masks[pred_id]\n",
        "            total = (t_mask + p_mask).sum()\n",
        "            inter = (t_mask * p_mask).sum()\n",
        "            iou = inter / (total - inter)\n",
        "            pairwise_iou[true_id - 1, pred_id - 1] = iou\n",
        "    #\n",
        "    if match_iou >= 0.3:\n",
        "        print(\"matched\")\n",
        "        paired_iou = pairwise_iou[pairwise_iou > match_iou]\n",
        "        pairwise_iou[pairwise_iou <= match_iou] = 0.0\n",
        "        paired_true, paired_pred = np.nonzero(pairwise_iou)\n",
        "        paired_iou = pairwise_iou[paired_true, paired_pred]\n",
        "        paired_true += 1  # index is instance id - 1\n",
        "        paired_pred += 1  # hence return back to original\n",
        "    else:  # * Exhaustive maximal unique pairing\n",
        "        #### Munkres pairing with scipy library\n",
        "        # the algorithm return (row indices, matched column indices)\n",
        "        # if there is multiple same cost in a row, index of first occurence\n",
        "        # is return, thus the unique pairing is ensure\n",
        "        # inverse pair to get high IoU as minimum\n",
        "        paired_true, paired_pred = linear_sum_assignment(-pairwise_iou)\n",
        "        ### extract the paired cost and remove invalid pair\n",
        "        paired_iou = pairwise_iou[paired_true, paired_pred]\n",
        "\n",
        "        # now select those above threshold level\n",
        "        # paired with iou = 0.0 i.e no intersection => FP or FN\n",
        "        paired_true = list(paired_true[paired_iou > match_iou] + 1)\n",
        "        paired_pred = list(paired_pred[paired_iou > match_iou] + 1)\n",
        "        paired_iou = paired_iou[paired_iou > match_iou]\n",
        "\n",
        "    # get the actual FP and FN\n",
        "    unpaired_true = [idx for idx in true_id_list[1:] if idx not in paired_true]\n",
        "    unpaired_pred = [idx for idx in pred_id_list[1:] if idx not in paired_pred]\n",
        "    # print(paired_iou.shape, paired_true.shape, len(unpaired_true), len(unpaired_pred))\n",
        "\n",
        "    #\n",
        "    tp = len(paired_true)\n",
        "    fp = len(unpaired_pred)\n",
        "    fn = len(unpaired_true)\n",
        "    \n",
        "    # get the F1-score i.e DQ\n",
        "    dq1 = tp / (tp + 0.5 * fp + 0.5 * fn)\n",
        "    gtx = true.astype(\"float64\")\n",
        "    predictionx = pred.astype(\"float64\")\n",
        "    dq = DQ(gtx, predictionx)\n",
        "    # get the SQ, no paired has 0 iou so not impact\n",
        "    sq = paired_iou.sum() / (tp)\n",
        "\n",
        "    return [dq, sq, dq * sq]\n",
        "\n",
        "\n",
        "\n",
        "\n",
        "\n",
        "#####--------------------------As pseudocode\n",
        "def get_dice_1(true, pred):\n",
        "    \"\"\"Traditional dice.\"\"\"\n",
        "    # cast to binary 1st\n",
        "    true = np.copy(true)\n",
        "    pred = np.copy(pred)\n",
        "    true[true > 0] = 1\n",
        "    pred[pred > 0] = 1\n",
        "    inter = true * pred\n",
        "    denom = true + pred\n",
        "    return 2.0 * np.sum(inter) / np.sum(denom)\n",
        "\n",
        "\n",
        "\n",
        "def remap_label(pred, by_size=False):\n",
        "    \"\"\"Rename all instance id so that the id is contiguous i.e [0, 1, 2, 3] \n",
        "    not [0, 2, 4, 6]. The ordering of instances (which one comes first) \n",
        "    is preserved unless by_size=True, then the instances will be reordered\n",
        "    so that bigger nucler has smaller ID.\n",
        "    Args:\n",
        "        pred    : the 2d array contain instances where each instances is marked\n",
        "                  by non-zero integer\n",
        "        by_size : renaming with larger nuclei has smaller id (on-top)\n",
        "    \"\"\"\n",
        "    pred_id = list(np.unique(pred))\n",
        "    pred_id.remove(0)\n",
        "    if len(pred_id) == 0:\n",
        "        return pred  # no label\n",
        "    if by_size:\n",
        "        pred_size = []\n",
        "        for inst_id in pred_id:\n",
        "            size = (pred == inst_id).sum()\n",
        "            pred_size.append(size)\n",
        "        # sort the id by size in descending order\n",
        "        pair_list = zip(pred_id, pred_size)\n",
        "        pair_list = sorted(pair_list, key=lambda x: x[1], reverse=True)\n",
        "        pred_id, pred_size = zip(*pair_list)\n",
        "\n",
        "    new_pred = np.zeros(pred.shape, np.int32)\n",
        "    for idx, inst_id in enumerate(pred_id):\n",
        "        new_pred[pred == inst_id] = idx + 1\n",
        "    return new_pred\n",
        "\n",
        "\n",
        "#####\n",
        "def pair_coordinates(setA, setB, radius):\n",
        "    \"\"\"Use the Munkres or Kuhn-Munkres algorithm to find the most optimal \n",
        "    unique pairing (largest possible match) when pairing points in set B \n",
        "    against points in set A, using distance as cost function.\n",
        "    Args:\n",
        "        setA, setB: np.array (float32) of size Nx2 contains the of XY coordinate\n",
        "                    of N different points \n",
        "        radius: valid area around a point in setA to consider \n",
        "                a given coordinate in setB a candidate for match\n",
        "    Return:\n",
        "        pairing: pairing is an array of indices\n",
        "        where point at index pairing[0] in set A paired with point\n",
        "        in set B at index pairing[1]\n",
        "        unparedA, unpairedB: remaining poitn in set A and set B unpaired\n",
        "    \"\"\"\n",
        "    # * Euclidean distance as the cost matrix\n",
        "    pair_distance = scipy.spatial.distance.cdist(setA, setB, metric='euclidean')\n",
        "\n",
        "    # * Munkres pairing with scipy library\n",
        "    # the algorithm return (row indices, matched column indices)\n",
        "    # if there is multiple same cost in a row, index of first occurence \n",
        "    # is return, thus the unique pairing is ensured\n",
        "    indicesA, paired_indicesB = linear_sum_assignment(pair_distance)\n",
        "\n",
        "    # extract the paired cost and remove instances \n",
        "    # outside of designated radius\n",
        "    pair_cost = pair_distance[indicesA, paired_indicesB]\n",
        "\n",
        "    pairedA = indicesA[pair_cost <= radius]\n",
        "    pairedB = paired_indicesB[pair_cost <= radius]\n",
        "\n",
        "    pairing = np.concatenate([pairedA[:,None], pairedB[:,None]], axis=-1)\n",
        "    unpairedA = np.delete(np.arange(setA.shape[0]), pairedA)\n",
        "    unpairedB = np.delete(np.arange(setB.shape[0]), pairedB)\n",
        "    return pairing, unpairedA, unpairedB"
      ],
      "metadata": {
        "id": "hQDC4T01ju_R"
      },
      "execution_count": null,
      "outputs": []
    }
  ],
  "metadata": {
    "accelerator": "GPU",
    "colab": {
      "collapsed_sections": [],
      "name": "361614_MAHNOORTARIQ_CPM17.ipynb",
      "provenance": []
    },
    "kernelspec": {
      "display_name": "Python 3",
      "name": "python3"
    },
    "language_info": {
      "name": "python"
    }
  },
  "nbformat": 4,
  "nbformat_minor": 0
}